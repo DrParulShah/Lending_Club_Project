{
 "cells": [
  {
   "cell_type": "markdown",
   "id": "fcfe1471",
   "metadata": {},
   "source": [
    "# Lending Club Case Study"
   ]
  },
  {
   "cell_type": "markdown",
   "id": "f0b54769",
   "metadata": {},
   "source": [
    "## Import all the libraries that are needed"
   ]
  },
  {
   "cell_type": "code",
   "execution_count": 36,
   "id": "229e4d20",
   "metadata": {},
   "outputs": [],
   "source": [
    "import pandas as pd\n",
    "import numpy as np\n",
    "import matplotlib.pyplot as plt\n",
    "from sklearn.preprocessing import LabelEncoder\n",
    "import seaborn as sb\n"
   ]
  },
  {
   "cell_type": "markdown",
   "id": "f90d9629",
   "metadata": {},
   "source": [
    "## Read CSV data File"
   ]
  },
  {
   "cell_type": "code",
   "execution_count": 37,
   "id": "aa1c5de8",
   "metadata": {},
   "outputs": [],
   "source": [
    "data = pd.read_csv('D:\\Parul\\MyUpGrad\\Course2_Statistical_Evaluation\\group_project\\Lending_Club_Project\\loan.csv', dtype={'next_pymnt_d': 'str'})\n"
   ]
  },
  {
   "cell_type": "markdown",
   "id": "835215f1",
   "metadata": {},
   "source": [
    "### Take a quick first look at the data to get an idea about attributes and  size of data"
   ]
  },
  {
   "cell_type": "code",
   "execution_count": 38,
   "id": "35ee3e49",
   "metadata": {},
   "outputs": [
    {
     "data": {
      "text/html": [
       "<div>\n",
       "<style scoped>\n",
       "    .dataframe tbody tr th:only-of-type {\n",
       "        vertical-align: middle;\n",
       "    }\n",
       "\n",
       "    .dataframe tbody tr th {\n",
       "        vertical-align: top;\n",
       "    }\n",
       "\n",
       "    .dataframe thead th {\n",
       "        text-align: right;\n",
       "    }\n",
       "</style>\n",
       "<table border=\"1\" class=\"dataframe\">\n",
       "  <thead>\n",
       "    <tr style=\"text-align: right;\">\n",
       "      <th></th>\n",
       "      <th>id</th>\n",
       "      <th>member_id</th>\n",
       "      <th>loan_amnt</th>\n",
       "      <th>funded_amnt</th>\n",
       "      <th>funded_amnt_inv</th>\n",
       "      <th>term</th>\n",
       "      <th>int_rate</th>\n",
       "      <th>installment</th>\n",
       "      <th>grade</th>\n",
       "      <th>sub_grade</th>\n",
       "      <th>...</th>\n",
       "      <th>num_tl_90g_dpd_24m</th>\n",
       "      <th>num_tl_op_past_12m</th>\n",
       "      <th>pct_tl_nvr_dlq</th>\n",
       "      <th>percent_bc_gt_75</th>\n",
       "      <th>pub_rec_bankruptcies</th>\n",
       "      <th>tax_liens</th>\n",
       "      <th>tot_hi_cred_lim</th>\n",
       "      <th>total_bal_ex_mort</th>\n",
       "      <th>total_bc_limit</th>\n",
       "      <th>total_il_high_credit_limit</th>\n",
       "    </tr>\n",
       "  </thead>\n",
       "  <tbody>\n",
       "    <tr>\n",
       "      <th>0</th>\n",
       "      <td>1077501</td>\n",
       "      <td>1296599</td>\n",
       "      <td>5000</td>\n",
       "      <td>5000</td>\n",
       "      <td>4975.0</td>\n",
       "      <td>36 months</td>\n",
       "      <td>10.65%</td>\n",
       "      <td>162.87</td>\n",
       "      <td>B</td>\n",
       "      <td>B2</td>\n",
       "      <td>...</td>\n",
       "      <td>NaN</td>\n",
       "      <td>NaN</td>\n",
       "      <td>NaN</td>\n",
       "      <td>NaN</td>\n",
       "      <td>0.0</td>\n",
       "      <td>0.0</td>\n",
       "      <td>NaN</td>\n",
       "      <td>NaN</td>\n",
       "      <td>NaN</td>\n",
       "      <td>NaN</td>\n",
       "    </tr>\n",
       "    <tr>\n",
       "      <th>1</th>\n",
       "      <td>1077430</td>\n",
       "      <td>1314167</td>\n",
       "      <td>2500</td>\n",
       "      <td>2500</td>\n",
       "      <td>2500.0</td>\n",
       "      <td>60 months</td>\n",
       "      <td>15.27%</td>\n",
       "      <td>59.83</td>\n",
       "      <td>C</td>\n",
       "      <td>C4</td>\n",
       "      <td>...</td>\n",
       "      <td>NaN</td>\n",
       "      <td>NaN</td>\n",
       "      <td>NaN</td>\n",
       "      <td>NaN</td>\n",
       "      <td>0.0</td>\n",
       "      <td>0.0</td>\n",
       "      <td>NaN</td>\n",
       "      <td>NaN</td>\n",
       "      <td>NaN</td>\n",
       "      <td>NaN</td>\n",
       "    </tr>\n",
       "  </tbody>\n",
       "</table>\n",
       "<p>2 rows × 111 columns</p>\n",
       "</div>"
      ],
      "text/plain": [
       "        id  member_id  loan_amnt  funded_amnt  funded_amnt_inv        term  \\\n",
       "0  1077501    1296599       5000         5000           4975.0   36 months   \n",
       "1  1077430    1314167       2500         2500           2500.0   60 months   \n",
       "\n",
       "  int_rate  installment grade sub_grade  ... num_tl_90g_dpd_24m  \\\n",
       "0   10.65%       162.87     B        B2  ...                NaN   \n",
       "1   15.27%        59.83     C        C4  ...                NaN   \n",
       "\n",
       "  num_tl_op_past_12m pct_tl_nvr_dlq  percent_bc_gt_75 pub_rec_bankruptcies  \\\n",
       "0                NaN            NaN               NaN                  0.0   \n",
       "1                NaN            NaN               NaN                  0.0   \n",
       "\n",
       "  tax_liens tot_hi_cred_lim total_bal_ex_mort total_bc_limit  \\\n",
       "0       0.0             NaN               NaN            NaN   \n",
       "1       0.0             NaN               NaN            NaN   \n",
       "\n",
       "  total_il_high_credit_limit  \n",
       "0                        NaN  \n",
       "1                        NaN  \n",
       "\n",
       "[2 rows x 111 columns]"
      ]
     },
     "execution_count": 38,
     "metadata": {},
     "output_type": "execute_result"
    }
   ],
   "source": [
    "data.head(2)  \n"
   ]
  },
  {
   "cell_type": "code",
   "execution_count": 39,
   "id": "2713be1f",
   "metadata": {},
   "outputs": [
    {
     "name": "stdout",
     "output_type": "stream",
     "text": [
      "<class 'pandas.core.frame.DataFrame'>\n",
      "RangeIndex: 39717 entries, 0 to 39716\n",
      "Columns: 111 entries, id to total_il_high_credit_limit\n",
      "dtypes: float64(74), int64(13), object(24)\n",
      "memory usage: 33.6+ MB\n"
     ]
    }
   ],
   "source": [
    "data.info()"
   ]
  },
  {
   "cell_type": "code",
   "execution_count": 40,
   "id": "24318b41",
   "metadata": {},
   "outputs": [
    {
     "data": {
      "text/html": [
       "<div>\n",
       "<style scoped>\n",
       "    .dataframe tbody tr th:only-of-type {\n",
       "        vertical-align: middle;\n",
       "    }\n",
       "\n",
       "    .dataframe tbody tr th {\n",
       "        vertical-align: top;\n",
       "    }\n",
       "\n",
       "    .dataframe thead th {\n",
       "        text-align: right;\n",
       "    }\n",
       "</style>\n",
       "<table border=\"1\" class=\"dataframe\">\n",
       "  <thead>\n",
       "    <tr style=\"text-align: right;\">\n",
       "      <th></th>\n",
       "      <th>id</th>\n",
       "      <th>member_id</th>\n",
       "      <th>loan_amnt</th>\n",
       "      <th>funded_amnt</th>\n",
       "      <th>funded_amnt_inv</th>\n",
       "      <th>installment</th>\n",
       "      <th>annual_inc</th>\n",
       "      <th>dti</th>\n",
       "      <th>delinq_2yrs</th>\n",
       "      <th>inq_last_6mths</th>\n",
       "      <th>...</th>\n",
       "      <th>num_tl_90g_dpd_24m</th>\n",
       "      <th>num_tl_op_past_12m</th>\n",
       "      <th>pct_tl_nvr_dlq</th>\n",
       "      <th>percent_bc_gt_75</th>\n",
       "      <th>pub_rec_bankruptcies</th>\n",
       "      <th>tax_liens</th>\n",
       "      <th>tot_hi_cred_lim</th>\n",
       "      <th>total_bal_ex_mort</th>\n",
       "      <th>total_bc_limit</th>\n",
       "      <th>total_il_high_credit_limit</th>\n",
       "    </tr>\n",
       "  </thead>\n",
       "  <tbody>\n",
       "    <tr>\n",
       "      <th>count</th>\n",
       "      <td>3.971700e+04</td>\n",
       "      <td>3.971700e+04</td>\n",
       "      <td>39717.000000</td>\n",
       "      <td>39717.000000</td>\n",
       "      <td>39717.000000</td>\n",
       "      <td>39717.000000</td>\n",
       "      <td>3.971700e+04</td>\n",
       "      <td>39717.000000</td>\n",
       "      <td>39717.000000</td>\n",
       "      <td>39717.000000</td>\n",
       "      <td>...</td>\n",
       "      <td>0.0</td>\n",
       "      <td>0.0</td>\n",
       "      <td>0.0</td>\n",
       "      <td>0.0</td>\n",
       "      <td>39020.000000</td>\n",
       "      <td>39678.0</td>\n",
       "      <td>0.0</td>\n",
       "      <td>0.0</td>\n",
       "      <td>0.0</td>\n",
       "      <td>0.0</td>\n",
       "    </tr>\n",
       "    <tr>\n",
       "      <th>mean</th>\n",
       "      <td>6.831319e+05</td>\n",
       "      <td>8.504636e+05</td>\n",
       "      <td>11219.443815</td>\n",
       "      <td>10947.713196</td>\n",
       "      <td>10397.448868</td>\n",
       "      <td>324.561922</td>\n",
       "      <td>6.896893e+04</td>\n",
       "      <td>13.315130</td>\n",
       "      <td>0.146512</td>\n",
       "      <td>0.869200</td>\n",
       "      <td>...</td>\n",
       "      <td>NaN</td>\n",
       "      <td>NaN</td>\n",
       "      <td>NaN</td>\n",
       "      <td>NaN</td>\n",
       "      <td>0.043260</td>\n",
       "      <td>0.0</td>\n",
       "      <td>NaN</td>\n",
       "      <td>NaN</td>\n",
       "      <td>NaN</td>\n",
       "      <td>NaN</td>\n",
       "    </tr>\n",
       "    <tr>\n",
       "      <th>std</th>\n",
       "      <td>2.106941e+05</td>\n",
       "      <td>2.656783e+05</td>\n",
       "      <td>7456.670694</td>\n",
       "      <td>7187.238670</td>\n",
       "      <td>7128.450439</td>\n",
       "      <td>208.874874</td>\n",
       "      <td>6.379377e+04</td>\n",
       "      <td>6.678594</td>\n",
       "      <td>0.491812</td>\n",
       "      <td>1.070219</td>\n",
       "      <td>...</td>\n",
       "      <td>NaN</td>\n",
       "      <td>NaN</td>\n",
       "      <td>NaN</td>\n",
       "      <td>NaN</td>\n",
       "      <td>0.204324</td>\n",
       "      <td>0.0</td>\n",
       "      <td>NaN</td>\n",
       "      <td>NaN</td>\n",
       "      <td>NaN</td>\n",
       "      <td>NaN</td>\n",
       "    </tr>\n",
       "    <tr>\n",
       "      <th>min</th>\n",
       "      <td>5.473400e+04</td>\n",
       "      <td>7.069900e+04</td>\n",
       "      <td>500.000000</td>\n",
       "      <td>500.000000</td>\n",
       "      <td>0.000000</td>\n",
       "      <td>15.690000</td>\n",
       "      <td>4.000000e+03</td>\n",
       "      <td>0.000000</td>\n",
       "      <td>0.000000</td>\n",
       "      <td>0.000000</td>\n",
       "      <td>...</td>\n",
       "      <td>NaN</td>\n",
       "      <td>NaN</td>\n",
       "      <td>NaN</td>\n",
       "      <td>NaN</td>\n",
       "      <td>0.000000</td>\n",
       "      <td>0.0</td>\n",
       "      <td>NaN</td>\n",
       "      <td>NaN</td>\n",
       "      <td>NaN</td>\n",
       "      <td>NaN</td>\n",
       "    </tr>\n",
       "    <tr>\n",
       "      <th>25%</th>\n",
       "      <td>5.162210e+05</td>\n",
       "      <td>6.667800e+05</td>\n",
       "      <td>5500.000000</td>\n",
       "      <td>5400.000000</td>\n",
       "      <td>5000.000000</td>\n",
       "      <td>167.020000</td>\n",
       "      <td>4.040400e+04</td>\n",
       "      <td>8.170000</td>\n",
       "      <td>0.000000</td>\n",
       "      <td>0.000000</td>\n",
       "      <td>...</td>\n",
       "      <td>NaN</td>\n",
       "      <td>NaN</td>\n",
       "      <td>NaN</td>\n",
       "      <td>NaN</td>\n",
       "      <td>0.000000</td>\n",
       "      <td>0.0</td>\n",
       "      <td>NaN</td>\n",
       "      <td>NaN</td>\n",
       "      <td>NaN</td>\n",
       "      <td>NaN</td>\n",
       "    </tr>\n",
       "    <tr>\n",
       "      <th>50%</th>\n",
       "      <td>6.656650e+05</td>\n",
       "      <td>8.508120e+05</td>\n",
       "      <td>10000.000000</td>\n",
       "      <td>9600.000000</td>\n",
       "      <td>8975.000000</td>\n",
       "      <td>280.220000</td>\n",
       "      <td>5.900000e+04</td>\n",
       "      <td>13.400000</td>\n",
       "      <td>0.000000</td>\n",
       "      <td>1.000000</td>\n",
       "      <td>...</td>\n",
       "      <td>NaN</td>\n",
       "      <td>NaN</td>\n",
       "      <td>NaN</td>\n",
       "      <td>NaN</td>\n",
       "      <td>0.000000</td>\n",
       "      <td>0.0</td>\n",
       "      <td>NaN</td>\n",
       "      <td>NaN</td>\n",
       "      <td>NaN</td>\n",
       "      <td>NaN</td>\n",
       "    </tr>\n",
       "    <tr>\n",
       "      <th>75%</th>\n",
       "      <td>8.377550e+05</td>\n",
       "      <td>1.047339e+06</td>\n",
       "      <td>15000.000000</td>\n",
       "      <td>15000.000000</td>\n",
       "      <td>14400.000000</td>\n",
       "      <td>430.780000</td>\n",
       "      <td>8.230000e+04</td>\n",
       "      <td>18.600000</td>\n",
       "      <td>0.000000</td>\n",
       "      <td>1.000000</td>\n",
       "      <td>...</td>\n",
       "      <td>NaN</td>\n",
       "      <td>NaN</td>\n",
       "      <td>NaN</td>\n",
       "      <td>NaN</td>\n",
       "      <td>0.000000</td>\n",
       "      <td>0.0</td>\n",
       "      <td>NaN</td>\n",
       "      <td>NaN</td>\n",
       "      <td>NaN</td>\n",
       "      <td>NaN</td>\n",
       "    </tr>\n",
       "    <tr>\n",
       "      <th>max</th>\n",
       "      <td>1.077501e+06</td>\n",
       "      <td>1.314167e+06</td>\n",
       "      <td>35000.000000</td>\n",
       "      <td>35000.000000</td>\n",
       "      <td>35000.000000</td>\n",
       "      <td>1305.190000</td>\n",
       "      <td>6.000000e+06</td>\n",
       "      <td>29.990000</td>\n",
       "      <td>11.000000</td>\n",
       "      <td>8.000000</td>\n",
       "      <td>...</td>\n",
       "      <td>NaN</td>\n",
       "      <td>NaN</td>\n",
       "      <td>NaN</td>\n",
       "      <td>NaN</td>\n",
       "      <td>2.000000</td>\n",
       "      <td>0.0</td>\n",
       "      <td>NaN</td>\n",
       "      <td>NaN</td>\n",
       "      <td>NaN</td>\n",
       "      <td>NaN</td>\n",
       "    </tr>\n",
       "  </tbody>\n",
       "</table>\n",
       "<p>8 rows × 87 columns</p>\n",
       "</div>"
      ],
      "text/plain": [
       "                 id     member_id     loan_amnt   funded_amnt  \\\n",
       "count  3.971700e+04  3.971700e+04  39717.000000  39717.000000   \n",
       "mean   6.831319e+05  8.504636e+05  11219.443815  10947.713196   \n",
       "std    2.106941e+05  2.656783e+05   7456.670694   7187.238670   \n",
       "min    5.473400e+04  7.069900e+04    500.000000    500.000000   \n",
       "25%    5.162210e+05  6.667800e+05   5500.000000   5400.000000   \n",
       "50%    6.656650e+05  8.508120e+05  10000.000000   9600.000000   \n",
       "75%    8.377550e+05  1.047339e+06  15000.000000  15000.000000   \n",
       "max    1.077501e+06  1.314167e+06  35000.000000  35000.000000   \n",
       "\n",
       "       funded_amnt_inv   installment    annual_inc           dti  \\\n",
       "count     39717.000000  39717.000000  3.971700e+04  39717.000000   \n",
       "mean      10397.448868    324.561922  6.896893e+04     13.315130   \n",
       "std        7128.450439    208.874874  6.379377e+04      6.678594   \n",
       "min           0.000000     15.690000  4.000000e+03      0.000000   \n",
       "25%        5000.000000    167.020000  4.040400e+04      8.170000   \n",
       "50%        8975.000000    280.220000  5.900000e+04     13.400000   \n",
       "75%       14400.000000    430.780000  8.230000e+04     18.600000   \n",
       "max       35000.000000   1305.190000  6.000000e+06     29.990000   \n",
       "\n",
       "        delinq_2yrs  inq_last_6mths  ...  num_tl_90g_dpd_24m  \\\n",
       "count  39717.000000    39717.000000  ...                 0.0   \n",
       "mean       0.146512        0.869200  ...                 NaN   \n",
       "std        0.491812        1.070219  ...                 NaN   \n",
       "min        0.000000        0.000000  ...                 NaN   \n",
       "25%        0.000000        0.000000  ...                 NaN   \n",
       "50%        0.000000        1.000000  ...                 NaN   \n",
       "75%        0.000000        1.000000  ...                 NaN   \n",
       "max       11.000000        8.000000  ...                 NaN   \n",
       "\n",
       "       num_tl_op_past_12m  pct_tl_nvr_dlq  percent_bc_gt_75  \\\n",
       "count                 0.0             0.0               0.0   \n",
       "mean                  NaN             NaN               NaN   \n",
       "std                   NaN             NaN               NaN   \n",
       "min                   NaN             NaN               NaN   \n",
       "25%                   NaN             NaN               NaN   \n",
       "50%                   NaN             NaN               NaN   \n",
       "75%                   NaN             NaN               NaN   \n",
       "max                   NaN             NaN               NaN   \n",
       "\n",
       "       pub_rec_bankruptcies  tax_liens  tot_hi_cred_lim  total_bal_ex_mort  \\\n",
       "count          39020.000000    39678.0              0.0                0.0   \n",
       "mean               0.043260        0.0              NaN                NaN   \n",
       "std                0.204324        0.0              NaN                NaN   \n",
       "min                0.000000        0.0              NaN                NaN   \n",
       "25%                0.000000        0.0              NaN                NaN   \n",
       "50%                0.000000        0.0              NaN                NaN   \n",
       "75%                0.000000        0.0              NaN                NaN   \n",
       "max                2.000000        0.0              NaN                NaN   \n",
       "\n",
       "       total_bc_limit  total_il_high_credit_limit  \n",
       "count             0.0                         0.0  \n",
       "mean              NaN                         NaN  \n",
       "std               NaN                         NaN  \n",
       "min               NaN                         NaN  \n",
       "25%               NaN                         NaN  \n",
       "50%               NaN                         NaN  \n",
       "75%               NaN                         NaN  \n",
       "max               NaN                         NaN  \n",
       "\n",
       "[8 rows x 87 columns]"
      ]
     },
     "execution_count": 40,
     "metadata": {},
     "output_type": "execute_result"
    }
   ],
   "source": [
    "data.describe()"
   ]
  },
  {
   "cell_type": "code",
   "execution_count": 41,
   "id": "530bbec0",
   "metadata": {},
   "outputs": [
    {
     "name": "stdout",
     "output_type": "stream",
     "text": [
      "Number of atributes = 111 and number of borrowers = 39717\n"
     ]
    }
   ],
   "source": [
    "size = data.shape\n",
    "nrow = size[0]\n",
    "ncol = size[1]\n",
    "print(\"Number of atributes = {} and number of borrowers = {}\".format(size[1], size[0]))\n"
   ]
  },
  {
   "cell_type": "markdown",
   "id": "0db4b53e",
   "metadata": {},
   "source": [
    "## Data Cleaning"
   ]
  },
  {
   "cell_type": "markdown",
   "id": "becf553a",
   "metadata": {},
   "source": [
    "### Replace blank values by NaN"
   ]
  },
  {
   "cell_type": "code",
   "execution_count": 42,
   "id": "8cf3e29f",
   "metadata": {},
   "outputs": [
    {
     "data": {
      "text/html": [
       "<div>\n",
       "<style scoped>\n",
       "    .dataframe tbody tr th:only-of-type {\n",
       "        vertical-align: middle;\n",
       "    }\n",
       "\n",
       "    .dataframe tbody tr th {\n",
       "        vertical-align: top;\n",
       "    }\n",
       "\n",
       "    .dataframe thead th {\n",
       "        text-align: right;\n",
       "    }\n",
       "</style>\n",
       "<table border=\"1\" class=\"dataframe\">\n",
       "  <thead>\n",
       "    <tr style=\"text-align: right;\">\n",
       "      <th></th>\n",
       "      <th>id</th>\n",
       "      <th>member_id</th>\n",
       "      <th>loan_amnt</th>\n",
       "      <th>funded_amnt</th>\n",
       "      <th>funded_amnt_inv</th>\n",
       "      <th>term</th>\n",
       "      <th>int_rate</th>\n",
       "      <th>installment</th>\n",
       "      <th>grade</th>\n",
       "      <th>sub_grade</th>\n",
       "      <th>...</th>\n",
       "      <th>num_tl_90g_dpd_24m</th>\n",
       "      <th>num_tl_op_past_12m</th>\n",
       "      <th>pct_tl_nvr_dlq</th>\n",
       "      <th>percent_bc_gt_75</th>\n",
       "      <th>pub_rec_bankruptcies</th>\n",
       "      <th>tax_liens</th>\n",
       "      <th>tot_hi_cred_lim</th>\n",
       "      <th>total_bal_ex_mort</th>\n",
       "      <th>total_bc_limit</th>\n",
       "      <th>total_il_high_credit_limit</th>\n",
       "    </tr>\n",
       "  </thead>\n",
       "  <tbody>\n",
       "    <tr>\n",
       "      <th>0</th>\n",
       "      <td>1077501</td>\n",
       "      <td>1296599</td>\n",
       "      <td>5000</td>\n",
       "      <td>5000</td>\n",
       "      <td>4975.0</td>\n",
       "      <td>36 months</td>\n",
       "      <td>10.65%</td>\n",
       "      <td>162.87</td>\n",
       "      <td>B</td>\n",
       "      <td>B2</td>\n",
       "      <td>...</td>\n",
       "      <td>NaN</td>\n",
       "      <td>NaN</td>\n",
       "      <td>NaN</td>\n",
       "      <td>NaN</td>\n",
       "      <td>0.0</td>\n",
       "      <td>0.0</td>\n",
       "      <td>NaN</td>\n",
       "      <td>NaN</td>\n",
       "      <td>NaN</td>\n",
       "      <td>NaN</td>\n",
       "    </tr>\n",
       "    <tr>\n",
       "      <th>1</th>\n",
       "      <td>1077430</td>\n",
       "      <td>1314167</td>\n",
       "      <td>2500</td>\n",
       "      <td>2500</td>\n",
       "      <td>2500.0</td>\n",
       "      <td>60 months</td>\n",
       "      <td>15.27%</td>\n",
       "      <td>59.83</td>\n",
       "      <td>C</td>\n",
       "      <td>C4</td>\n",
       "      <td>...</td>\n",
       "      <td>NaN</td>\n",
       "      <td>NaN</td>\n",
       "      <td>NaN</td>\n",
       "      <td>NaN</td>\n",
       "      <td>0.0</td>\n",
       "      <td>0.0</td>\n",
       "      <td>NaN</td>\n",
       "      <td>NaN</td>\n",
       "      <td>NaN</td>\n",
       "      <td>NaN</td>\n",
       "    </tr>\n",
       "    <tr>\n",
       "      <th>2</th>\n",
       "      <td>1077175</td>\n",
       "      <td>1313524</td>\n",
       "      <td>2400</td>\n",
       "      <td>2400</td>\n",
       "      <td>2400.0</td>\n",
       "      <td>36 months</td>\n",
       "      <td>15.96%</td>\n",
       "      <td>84.33</td>\n",
       "      <td>C</td>\n",
       "      <td>C5</td>\n",
       "      <td>...</td>\n",
       "      <td>NaN</td>\n",
       "      <td>NaN</td>\n",
       "      <td>NaN</td>\n",
       "      <td>NaN</td>\n",
       "      <td>0.0</td>\n",
       "      <td>0.0</td>\n",
       "      <td>NaN</td>\n",
       "      <td>NaN</td>\n",
       "      <td>NaN</td>\n",
       "      <td>NaN</td>\n",
       "    </tr>\n",
       "    <tr>\n",
       "      <th>3</th>\n",
       "      <td>1076863</td>\n",
       "      <td>1277178</td>\n",
       "      <td>10000</td>\n",
       "      <td>10000</td>\n",
       "      <td>10000.0</td>\n",
       "      <td>36 months</td>\n",
       "      <td>13.49%</td>\n",
       "      <td>339.31</td>\n",
       "      <td>C</td>\n",
       "      <td>C1</td>\n",
       "      <td>...</td>\n",
       "      <td>NaN</td>\n",
       "      <td>NaN</td>\n",
       "      <td>NaN</td>\n",
       "      <td>NaN</td>\n",
       "      <td>0.0</td>\n",
       "      <td>0.0</td>\n",
       "      <td>NaN</td>\n",
       "      <td>NaN</td>\n",
       "      <td>NaN</td>\n",
       "      <td>NaN</td>\n",
       "    </tr>\n",
       "    <tr>\n",
       "      <th>4</th>\n",
       "      <td>1075358</td>\n",
       "      <td>1311748</td>\n",
       "      <td>3000</td>\n",
       "      <td>3000</td>\n",
       "      <td>3000.0</td>\n",
       "      <td>60 months</td>\n",
       "      <td>12.69%</td>\n",
       "      <td>67.79</td>\n",
       "      <td>B</td>\n",
       "      <td>B5</td>\n",
       "      <td>...</td>\n",
       "      <td>NaN</td>\n",
       "      <td>NaN</td>\n",
       "      <td>NaN</td>\n",
       "      <td>NaN</td>\n",
       "      <td>0.0</td>\n",
       "      <td>0.0</td>\n",
       "      <td>NaN</td>\n",
       "      <td>NaN</td>\n",
       "      <td>NaN</td>\n",
       "      <td>NaN</td>\n",
       "    </tr>\n",
       "  </tbody>\n",
       "</table>\n",
       "<p>5 rows × 111 columns</p>\n",
       "</div>"
      ],
      "text/plain": [
       "        id  member_id  loan_amnt  funded_amnt  funded_amnt_inv        term  \\\n",
       "0  1077501    1296599       5000         5000           4975.0   36 months   \n",
       "1  1077430    1314167       2500         2500           2500.0   60 months   \n",
       "2  1077175    1313524       2400         2400           2400.0   36 months   \n",
       "3  1076863    1277178      10000        10000          10000.0   36 months   \n",
       "4  1075358    1311748       3000         3000           3000.0   60 months   \n",
       "\n",
       "  int_rate  installment grade sub_grade  ... num_tl_90g_dpd_24m  \\\n",
       "0   10.65%       162.87     B        B2  ...                NaN   \n",
       "1   15.27%        59.83     C        C4  ...                NaN   \n",
       "2   15.96%        84.33     C        C5  ...                NaN   \n",
       "3   13.49%       339.31     C        C1  ...                NaN   \n",
       "4   12.69%        67.79     B        B5  ...                NaN   \n",
       "\n",
       "  num_tl_op_past_12m pct_tl_nvr_dlq  percent_bc_gt_75 pub_rec_bankruptcies  \\\n",
       "0                NaN            NaN               NaN                  0.0   \n",
       "1                NaN            NaN               NaN                  0.0   \n",
       "2                NaN            NaN               NaN                  0.0   \n",
       "3                NaN            NaN               NaN                  0.0   \n",
       "4                NaN            NaN               NaN                  0.0   \n",
       "\n",
       "  tax_liens tot_hi_cred_lim total_bal_ex_mort total_bc_limit  \\\n",
       "0       0.0             NaN               NaN            NaN   \n",
       "1       0.0             NaN               NaN            NaN   \n",
       "2       0.0             NaN               NaN            NaN   \n",
       "3       0.0             NaN               NaN            NaN   \n",
       "4       0.0             NaN               NaN            NaN   \n",
       "\n",
       "  total_il_high_credit_limit  \n",
       "0                        NaN  \n",
       "1                        NaN  \n",
       "2                        NaN  \n",
       "3                        NaN  \n",
       "4                        NaN  \n",
       "\n",
       "[5 rows x 111 columns]"
      ]
     },
     "execution_count": 42,
     "metadata": {},
     "output_type": "execute_result"
    }
   ],
   "source": [
    "data2 = data.replace(r'^\\s*$', np.nan, regex=True)\n",
    "data2.head()"
   ]
  },
  {
   "cell_type": "code",
   "execution_count": 43,
   "id": "2e08c527",
   "metadata": {},
   "outputs": [
    {
     "name": "stdout",
     "output_type": "stream",
     "text": [
      "id                                0\n",
      "member_id                         0\n",
      "loan_amnt                         0\n",
      "funded_amnt                       0\n",
      "funded_amnt_inv                   0\n",
      "                              ...  \n",
      "tax_liens                        39\n",
      "tot_hi_cred_lim               39717\n",
      "total_bal_ex_mort             39717\n",
      "total_bc_limit                39717\n",
      "total_il_high_credit_limit    39717\n",
      "Length: 111, dtype: int64 39717\n"
     ]
    }
   ],
   "source": [
    "null_count = data.isnull().sum(axis=0)  # count of null in each columns\n",
    "print(null_count, max(null_count))\n"
   ]
  },
  {
   "cell_type": "markdown",
   "id": "004a17b5",
   "metadata": {},
   "source": [
    "### Remove columns that has all values as NULL as it as no information at all"
   ]
  },
  {
   "cell_type": "code",
   "execution_count": 44,
   "id": "da657404",
   "metadata": {},
   "outputs": [
    {
     "name": "stdout",
     "output_type": "stream",
     "text": [
      "Number of atributes = 57 and number of borrowers = 39717\n"
     ]
    }
   ],
   "source": [
    "data = data.dropna(axis = 1, how = 'all')\n",
    "size1 = data.shape\n",
    "nrow1 = size1[0]\n",
    "ncol1 = size1[1]\n",
    "print(\"Number of atributes = {} and number of borrowers = {}\".format(size1[1], size1[0]))\n",
    "\n"
   ]
  },
  {
   "cell_type": "markdown",
   "id": "e8daf889",
   "metadata": {},
   "source": [
    "### Remove columns that has constant value througout and hence not contributing to any information"
   ]
  },
  {
   "cell_type": "code",
   "execution_count": 45,
   "id": "c3a6eeba",
   "metadata": {},
   "outputs": [
    {
     "name": "stdout",
     "output_type": "stream",
     "text": [
      "Number of atributes = 48 and number of borrowers = 39717\n"
     ]
    }
   ],
   "source": [
    "#data = data.loc[:, (data != data.iloc[0]).any()] \n",
    "data = data.loc[:,data.apply(pd.Series.nunique) != 1]\n",
    "\n",
    "size2 = data.shape\n",
    "nrow2 = size2[0]\n",
    "ncol2 = size2[1]\n",
    "print(\"Number of atributes = {} and number of borrowers = {}\".format(size2[1], size2[0]))\n",
    "\n"
   ]
  },
  {
   "cell_type": "markdown",
   "id": "b73aee73",
   "metadata": {},
   "source": [
    "###  Drop columns that has unique entries for each row and hence not giving any information that we can use to learn a pattern.  e.g columns 'id', 'member_id', 'url'\n",
    "\n",
    "### Also the column that has some description and not the kind of data that can be consolidated or grouped to learn something. e.g. 'desc', 'title', 'emp_title'\n",
    "\n",
    "###  Note: Descriptive data might be helpful if we aply some NLP. But as we are notusing NLP here, we have decided to drop them.\n",
    "\n",
    "###  'next_pymnt_d' column too is removed as tere is no learning on defaulting"
   ]
  },
  {
   "cell_type": "code",
   "execution_count": 46,
   "id": "d0d298d5",
   "metadata": {},
   "outputs": [
    {
     "name": "stdout",
     "output_type": "stream",
     "text": [
      " Number of atributes = 41 and number of borrowers = 39717\n"
     ]
    }
   ],
   "source": [
    "data = data.drop(['id', 'member_id', 'url', 'desc', 'title', 'emp_title', 'next_pymnt_d'], axis=1)\n",
    "size3 = data.shape\n",
    "nrow3 = size3[0]\n",
    "ncol3 = size3[1]\n",
    "print(\" Number of atributes = {} and number of borrowers = {}\".format(size3[1], size3[0]))\n",
    "\n",
    "\n"
   ]
  },
  {
   "cell_type": "markdown",
   "id": "74fdfaf6",
   "metadata": {},
   "source": [
    "## Let us look at the correlation between all columns. \n",
    "## If two columns are highly correlated, we can drop one of the two as, they give same information and hence one is enough, rest are redundant data"
   ]
  },
  {
   "cell_type": "code",
   "execution_count": 47,
   "id": "21d0a0fd",
   "metadata": {},
   "outputs": [
    {
     "name": "stdout",
     "output_type": "stream",
     "text": [
      "                         loan_amnt  funded_amnt  funded_amnt_inv  installment  \\\n",
      "loan_amnt                 1.000000     0.981578         0.940034     0.930288   \n",
      "funded_amnt               0.981578     1.000000         0.958422     0.956159   \n",
      "funded_amnt_inv           0.940034     0.958422         1.000000     0.905039   \n",
      "installment               0.930288     0.956159         0.905039     1.000000   \n",
      "annual_inc                0.271149     0.266965         0.254375     0.270874   \n",
      "dti                       0.066439     0.066283         0.074689     0.054186   \n",
      "delinq_2yrs              -0.031864    -0.032355        -0.038501    -0.019657   \n",
      "inq_last_6mths            0.009229     0.009259        -0.005712     0.009722   \n",
      "mths_since_last_delinq    0.014871     0.016359         0.071924     0.000047   \n",
      "mths_since_last_record    0.004968    -0.006059         0.437906    -0.062171   \n",
      "open_acc                  0.177168     0.175530         0.163027     0.172812   \n",
      "pub_rec                  -0.051236    -0.052169        -0.053214    -0.046532   \n",
      "revol_bal                 0.317597     0.310392         0.290797     0.312679   \n",
      "total_acc                 0.256442     0.250589         0.242854     0.230824   \n",
      "out_prncp                 0.192937     0.194941         0.203688     0.125082   \n",
      "out_prncp_inv             0.192623     0.194675         0.203693     0.124932   \n",
      "total_pymnt               0.886613     0.903160         0.881228     0.856928   \n",
      "total_pymnt_inv           0.854243     0.870799         0.913257     0.817416   \n",
      "total_rec_prncp           0.852021     0.870255         0.845848     0.850773   \n",
      "total_rec_int             0.729726     0.737469         0.730914     0.634725   \n",
      "total_rec_late_fee        0.044706     0.046705         0.027172     0.056709   \n",
      "recoveries                0.135446     0.136284         0.123759     0.118152   \n",
      "collection_recovery_fee   0.072853     0.074676         0.060358     0.075467   \n",
      "last_pymnt_amnt           0.448742     0.453133         0.442604     0.401688   \n",
      "pub_rec_bankruptcies     -0.037180    -0.038502        -0.042746    -0.034103   \n",
      "\n",
      "                         annual_inc       dti  delinq_2yrs  inq_last_6mths  \\\n",
      "loan_amnt                  0.271149  0.066439    -0.031864        0.009229   \n",
      "funded_amnt                0.266965  0.066283    -0.032355        0.009259   \n",
      "funded_amnt_inv            0.254375  0.074689    -0.038501       -0.005712   \n",
      "installment                0.270874  0.054186    -0.019657        0.009722   \n",
      "annual_inc                 1.000000 -0.122732     0.023083        0.033908   \n",
      "dti                       -0.122732  1.000000    -0.034452        0.001405   \n",
      "delinq_2yrs                0.023083 -0.034452     1.000000        0.008091   \n",
      "inq_last_6mths             0.033908  0.001405     0.008091        1.000000   \n",
      "mths_since_last_delinq    -0.008822  0.068815    -0.569438       -0.003851   \n",
      "mths_since_last_record    -0.031866  0.187175    -0.036628       -0.027878   \n",
      "open_acc                   0.158200  0.288045     0.011656        0.091713   \n",
      "pub_rec                   -0.018689 -0.004621     0.007463        0.024802   \n",
      "revol_bal                  0.279961  0.228743    -0.055125       -0.022381   \n",
      "total_acc                  0.235771  0.229881     0.067892        0.111499   \n",
      "out_prncp                  0.033573  0.036095    -0.003008       -0.012106   \n",
      "out_prncp_inv              0.033472  0.036012    -0.003203       -0.011780   \n",
      "total_pymnt                0.257980  0.064766    -0.022695       -0.010559   \n",
      "total_pymnt_inv            0.247119  0.071647    -0.028976       -0.020277   \n",
      "total_rec_prncp            0.259571  0.041316    -0.038795       -0.023433   \n",
      "total_rec_int              0.185476  0.106071     0.023077        0.021774   \n",
      "total_rec_late_fee         0.006243 -0.011781     0.030609        0.031215   \n",
      "recoveries                 0.021589  0.024878     0.012315        0.018972   \n",
      "collection_recovery_fee    0.015604  0.011033     0.013912        0.012420   \n",
      "last_pymnt_amnt            0.140401  0.005212    -0.012149        0.028514   \n",
      "pub_rec_bankruptcies      -0.016801  0.005691     0.003375        0.016346   \n",
      "\n",
      "                         mths_since_last_delinq  mths_since_last_record  ...  \\\n",
      "loan_amnt                              0.014871                0.004968  ...   \n",
      "funded_amnt                            0.016359               -0.006059  ...   \n",
      "funded_amnt_inv                        0.071924                0.437906  ...   \n",
      "installment                            0.000047               -0.062171  ...   \n",
      "annual_inc                            -0.008822               -0.031866  ...   \n",
      "dti                                    0.068815                0.187175  ...   \n",
      "delinq_2yrs                           -0.569438               -0.036628  ...   \n",
      "inq_last_6mths                        -0.003851               -0.027878  ...   \n",
      "mths_since_last_delinq                 1.000000                0.484749  ...   \n",
      "mths_since_last_record                 0.484749                1.000000  ...   \n",
      "open_acc                               0.024366                0.021477  ...   \n",
      "pub_rec                                0.059105                0.778721  ...   \n",
      "revol_bal                              0.013645               -0.104276  ...   \n",
      "total_acc                              0.007643                0.100367  ...   \n",
      "out_prncp                              0.005345                0.057430  ...   \n",
      "out_prncp_inv                          0.005501                0.056635  ...   \n",
      "total_pymnt                            0.012174                0.004355  ...   \n",
      "total_pymnt_inv                        0.057515                0.373132  ...   \n",
      "total_rec_prncp                        0.015708               -0.041470  ...   \n",
      "total_rec_int                          0.002801                0.128281  ...   \n",
      "total_rec_late_fee                    -0.028460               -0.097503  ...   \n",
      "recoveries                            -0.008622               -0.013125  ...   \n",
      "collection_recovery_fee               -0.018697               -0.038484  ...   \n",
      "last_pymnt_amnt                        0.007023                0.078624  ...   \n",
      "pub_rec_bankruptcies                   0.025841                0.823352  ...   \n",
      "\n",
      "                         out_prncp_inv  total_pymnt  total_pymnt_inv  \\\n",
      "loan_amnt                     0.192623     0.886613         0.854243   \n",
      "funded_amnt                   0.194675     0.903160         0.870799   \n",
      "funded_amnt_inv               0.203693     0.881228         0.913257   \n",
      "installment                   0.124932     0.856928         0.817416   \n",
      "annual_inc                    0.033472     0.257980         0.247119   \n",
      "dti                           0.036012     0.064766         0.071647   \n",
      "delinq_2yrs                  -0.003203    -0.022695        -0.028976   \n",
      "inq_last_6mths               -0.011780    -0.010559        -0.020277   \n",
      "mths_since_last_delinq        0.005501     0.012174         0.057515   \n",
      "mths_since_last_record        0.056635     0.004355         0.373132   \n",
      "open_acc                      0.028514     0.162663         0.152937   \n",
      "pub_rec                      -0.012910    -0.053668        -0.054101   \n",
      "revol_bal                     0.060183     0.293204         0.277543   \n",
      "total_acc                     0.031009     0.225077         0.219244   \n",
      "out_prncp                     0.999827     0.239367         0.246537   \n",
      "out_prncp_inv                 1.000000     0.239049         0.246524   \n",
      "total_pymnt                   0.239049     1.000000         0.970815   \n",
      "total_pymnt_inv               0.246524     0.970815         1.000000   \n",
      "total_rec_prncp               0.166235     0.971472         0.939581   \n",
      "total_rec_int                 0.383410     0.828758         0.815615   \n",
      "total_rec_late_fee           -0.004752     0.012981        -0.000796   \n",
      "recoveries                   -0.018858     0.023950         0.017862   \n",
      "collection_recovery_fee      -0.011382     0.024555         0.015016   \n",
      "last_pymnt_amnt              -0.066324     0.474624         0.462255   \n",
      "pub_rec_bankruptcies         -0.010314    -0.043661        -0.047011   \n",
      "\n",
      "                         total_rec_prncp  total_rec_int  total_rec_late_fee  \\\n",
      "loan_amnt                       0.852021       0.729726            0.044706   \n",
      "funded_amnt                     0.870255       0.737469            0.046705   \n",
      "funded_amnt_inv                 0.845848       0.730914            0.027172   \n",
      "installment                     0.850773       0.634725            0.056709   \n",
      "annual_inc                      0.259571       0.185476            0.006243   \n",
      "dti                             0.041316       0.106071           -0.011781   \n",
      "delinq_2yrs                    -0.038795       0.023077            0.030609   \n",
      "inq_last_6mths                 -0.023433       0.021774            0.031215   \n",
      "mths_since_last_delinq          0.015708       0.002801           -0.028460   \n",
      "mths_since_last_record         -0.041470       0.128281           -0.097503   \n",
      "open_acc                        0.160631       0.124499           -0.018627   \n",
      "pub_rec                        -0.065384      -0.007470           -0.002071   \n",
      "revol_bal                       0.281419       0.243000            0.003823   \n",
      "total_acc                       0.231242       0.147792           -0.024715   \n",
      "out_prncp                       0.166519       0.383746           -0.004644   \n",
      "out_prncp_inv                   0.166235       0.383410           -0.004752   \n",
      "total_pymnt                     0.971472       0.828758            0.012981   \n",
      "total_pymnt_inv                 0.939581       0.815615           -0.000796   \n",
      "total_rec_prncp                 1.000000       0.684027           -0.019667   \n",
      "total_rec_int                   0.684027       1.000000            0.069099   \n",
      "total_rec_late_fee             -0.019667       0.069099            1.000000   \n",
      "recoveries                     -0.094821       0.075552            0.099925   \n",
      "collection_recovery_fee        -0.058634       0.033289            0.093178   \n",
      "last_pymnt_amnt                 0.543408       0.191990           -0.060600   \n",
      "pub_rec_bankruptcies           -0.054125      -0.003609           -0.005489   \n",
      "\n",
      "                         recoveries  collection_recovery_fee  last_pymnt_amnt  \\\n",
      "loan_amnt                  0.135446                 0.072853         0.448742   \n",
      "funded_amnt                0.136284                 0.074676         0.453133   \n",
      "funded_amnt_inv            0.123759                 0.060358         0.442604   \n",
      "installment                0.118152                 0.075467         0.401688   \n",
      "annual_inc                 0.021589                 0.015604         0.140401   \n",
      "dti                        0.024878                 0.011033         0.005212   \n",
      "delinq_2yrs                0.012315                 0.013912        -0.012149   \n",
      "inq_last_6mths             0.018972                 0.012420         0.028514   \n",
      "mths_since_last_delinq    -0.008622                -0.018697         0.007023   \n",
      "mths_since_last_record    -0.013125                -0.038484         0.078624   \n",
      "open_acc                   0.016396                 0.006219         0.078865   \n",
      "pub_rec                   -0.005521                -0.005536        -0.032214   \n",
      "revol_bal                  0.042091                 0.022400         0.120371   \n",
      "total_acc                  0.023281                 0.010551         0.162841   \n",
      "out_prncp                 -0.018878                -0.011394        -0.066393   \n",
      "out_prncp_inv             -0.018858                -0.011382        -0.066324   \n",
      "total_pymnt                0.023950                 0.024555         0.474624   \n",
      "total_pymnt_inv            0.017862                 0.015016         0.462255   \n",
      "total_rec_prncp           -0.094821                -0.058634         0.543408   \n",
      "total_rec_int              0.075552                 0.033289         0.191990   \n",
      "total_rec_late_fee         0.099925                 0.093178        -0.060600   \n",
      "recoveries                 1.000000                 0.796816        -0.069955   \n",
      "collection_recovery_fee    0.796816                 1.000000        -0.041874   \n",
      "last_pymnt_amnt           -0.069955                -0.041874         1.000000   \n",
      "pub_rec_bankruptcies      -0.004651                -0.005208        -0.022585   \n",
      "\n",
      "                         pub_rec_bankruptcies  \n",
      "loan_amnt                           -0.037180  \n",
      "funded_amnt                         -0.038502  \n",
      "funded_amnt_inv                     -0.042746  \n",
      "installment                         -0.034103  \n",
      "annual_inc                          -0.016801  \n",
      "dti                                  0.005691  \n",
      "delinq_2yrs                          0.003375  \n",
      "inq_last_6mths                       0.016346  \n",
      "mths_since_last_delinq               0.025841  \n",
      "mths_since_last_record               0.823352  \n",
      "open_acc                             0.005930  \n",
      "pub_rec                              0.847305  \n",
      "revol_bal                           -0.049406  \n",
      "total_acc                           -0.011807  \n",
      "out_prncp                           -0.010024  \n",
      "out_prncp_inv                       -0.010314  \n",
      "total_pymnt                         -0.043661  \n",
      "total_pymnt_inv                     -0.047011  \n",
      "total_rec_prncp                     -0.054125  \n",
      "total_rec_int                       -0.003609  \n",
      "total_rec_late_fee                  -0.005489  \n",
      "recoveries                          -0.004651  \n",
      "collection_recovery_fee             -0.005208  \n",
      "last_pymnt_amnt                     -0.022585  \n",
      "pub_rec_bankruptcies                 1.000000  \n",
      "\n",
      "[25 rows x 25 columns]\n"
     ]
    }
   ],
   "source": [
    "print(data.corr())\n",
    "\n",
    "#data[data.columns[1:-1]].apply(lambda x: x.corr(data['loan_status']))\n",
    "#plt.figure(figsize =(18.10))\n",
    "#sns.heatmap(data.corr(), annot = True)\n",
    "#plt.show\n",
    "\n",
    "# Observation 1: out_prncp & out_prncp_inv are highly correlated with correlation value = 0.999, so we can drop one of them\n",
    "# Observation 2: total_pymnt & total_pymnt_inv are also ighlyy correlated, correlation = 0.97, so can drop one of the two"
   ]
  },
  {
   "cell_type": "markdown",
   "id": "cb375858",
   "metadata": {},
   "source": [
    "### Observation 1: out_prncp & out_prncp_inv are highly correlated with correlation value = 0.999, so we can drop one of them\n",
    "\n",
    "### Observation 2: total_pymnt & total_pymnt_inv are also ighlyy correlated, correlation = 0.97, so can drop one of the two"
   ]
  },
  {
   "cell_type": "markdown",
   "id": "8e0c7b67",
   "metadata": {},
   "source": [
    "### Removing redundant columns based on correlation analysis"
   ]
  },
  {
   "cell_type": "code",
   "execution_count": 48,
   "id": "7229232e",
   "metadata": {},
   "outputs": [
    {
     "name": "stdout",
     "output_type": "stream",
     "text": [
      " After all the removal of columns imparting no information, number of atributes = 39 and number of borrowers = 39717\n"
     ]
    }
   ],
   "source": [
    "data = data.drop(['out_prncp_inv', 'total_pymnt_inv'], axis=1)\n",
    "size3 = data.shape\n",
    "nrow3 = size3[0]\n",
    "ncol3 = size3[1]\n",
    "print(\" After all the removal of columns imparting no information, number of atributes = {} and number of borrowers = {}\".format(size3[1], size3[0]))\n"
   ]
  },
  {
   "cell_type": "markdown",
   "id": "0e0e41fb",
   "metadata": {},
   "source": [
    "### Remove rows with invalid data or most entries blank or Nill (if any)"
   ]
  },
  {
   "cell_type": "code",
   "execution_count": 49,
   "id": "1255b0e1",
   "metadata": {},
   "outputs": [
    {
     "name": "stdout",
     "output_type": "stream",
     "text": [
      "0        2\n",
      "1        2\n",
      "2        2\n",
      "3        1\n",
      "4        1\n",
      "        ..\n",
      "39712    1\n",
      "39713    1\n",
      "39714    1\n",
      "39715    1\n",
      "39716    1\n",
      "Length: 39717, dtype: int64 4\n"
     ]
    }
   ],
   "source": [
    "null_count = data.isnull().sum(axis=1)  # count of null in each rows\n",
    "print(null_count, max(null_count))\n",
    "\n",
    "# conclusion: no rows with all values as 'null' , so no removal needed based on that\n"
   ]
  },
  {
   "cell_type": "markdown",
   "id": "47c3cc0e",
   "metadata": {},
   "source": [
    "### Removing rows for which funded_amt_inv = 0 as if no amount was given to the borrower, his or her other data cannot provide any learning for risk analysis\n"
   ]
  },
  {
   "cell_type": "code",
   "execution_count": 50,
   "id": "4ebe2219",
   "metadata": {},
   "outputs": [
    {
     "name": "stdout",
     "output_type": "stream",
     "text": [
      "(39588, 39)\n"
     ]
    }
   ],
   "source": [
    "#data2 = data.drop(data[((data.funded_amnt_inv == 0) or (data.loan_status == 'Current')).all(axis=1)].index)\n",
    "data_filtered = data[data['funded_amnt_inv'] != 0]\n",
    "print(data_filtered.shape)\n",
    "\n"
   ]
  },
  {
   "cell_type": "markdown",
   "id": "d031040c",
   "metadata": {},
   "source": [
    "### Also removing rows for whic loan status is 'Current' as these data to cannot provide any learning for deafaulting. These are the borrowers who are still in process of repaying and so tey have neither defaulted nor fully paid"
   ]
  },
  {
   "cell_type": "code",
   "execution_count": 51,
   "id": "cfb3fc90",
   "metadata": {},
   "outputs": [
    {
     "name": "stdout",
     "output_type": "stream",
     "text": [
      "(38448, 39)\n"
     ]
    }
   ],
   "source": [
    "data_filtered = data_filtered[data_filtered['loan_status'] != 'Current']\n",
    "print(data_filtered.shape)\n"
   ]
  },
  {
   "cell_type": "markdown",
   "id": "d7ed121d",
   "metadata": {},
   "source": [
    "###  Re-label catagorical columns (to numeric labels) and convert incorrect data types (if any)\n",
    "### Remove characters because of which a numeric data is becoming string (e.g. % , <, > )"
   ]
  },
  {
   "cell_type": "code",
   "execution_count": 52,
   "id": "6e0e614e",
   "metadata": {},
   "outputs": [],
   "source": [
    "new_data = data_filtered.copy() \n",
    "# making a copy of cleaned data, while new_data will have some re-lebelled data, data_filtered will have original labels\n",
    "# you will see that we need bot kinds of labels when we go for analysis and visualization\n"
   ]
  },
  {
   "cell_type": "code",
   "execution_count": 53,
   "id": "15695c6f",
   "metadata": {},
   "outputs": [
    {
     "name": "stdout",
     "output_type": "stream",
     "text": [
      "After applying LabelEncoder:\n"
     ]
    },
    {
     "data": {
      "text/html": [
       "<div>\n",
       "<style scoped>\n",
       "    .dataframe tbody tr th:only-of-type {\n",
       "        vertical-align: middle;\n",
       "    }\n",
       "\n",
       "    .dataframe tbody tr th {\n",
       "        vertical-align: top;\n",
       "    }\n",
       "\n",
       "    .dataframe thead th {\n",
       "        text-align: right;\n",
       "    }\n",
       "</style>\n",
       "<table border=\"1\" class=\"dataframe\">\n",
       "  <thead>\n",
       "    <tr style=\"text-align: right;\">\n",
       "      <th></th>\n",
       "      <th>loan_amnt</th>\n",
       "      <th>funded_amnt</th>\n",
       "      <th>funded_amnt_inv</th>\n",
       "      <th>term</th>\n",
       "      <th>int_rate</th>\n",
       "      <th>installment</th>\n",
       "      <th>grade</th>\n",
       "      <th>sub_grade</th>\n",
       "      <th>emp_length</th>\n",
       "      <th>home_ownership</th>\n",
       "      <th>...</th>\n",
       "      <th>total_pymnt</th>\n",
       "      <th>total_rec_prncp</th>\n",
       "      <th>total_rec_int</th>\n",
       "      <th>total_rec_late_fee</th>\n",
       "      <th>recoveries</th>\n",
       "      <th>collection_recovery_fee</th>\n",
       "      <th>last_pymnt_d</th>\n",
       "      <th>last_pymnt_amnt</th>\n",
       "      <th>last_credit_pull_d</th>\n",
       "      <th>pub_rec_bankruptcies</th>\n",
       "    </tr>\n",
       "  </thead>\n",
       "  <tbody>\n",
       "    <tr>\n",
       "      <th>0</th>\n",
       "      <td>5000</td>\n",
       "      <td>5000</td>\n",
       "      <td>4975.0</td>\n",
       "      <td>0</td>\n",
       "      <td>10.65%</td>\n",
       "      <td>162.87</td>\n",
       "      <td>B</td>\n",
       "      <td>B2</td>\n",
       "      <td>10+ years</td>\n",
       "      <td>RENT</td>\n",
       "      <td>...</td>\n",
       "      <td>5863.155187</td>\n",
       "      <td>5000.00</td>\n",
       "      <td>863.16</td>\n",
       "      <td>0.0</td>\n",
       "      <td>0.00</td>\n",
       "      <td>0.00</td>\n",
       "      <td>Jan-15</td>\n",
       "      <td>171.62</td>\n",
       "      <td>May-16</td>\n",
       "      <td>0.0</td>\n",
       "    </tr>\n",
       "    <tr>\n",
       "      <th>1</th>\n",
       "      <td>2500</td>\n",
       "      <td>2500</td>\n",
       "      <td>2500.0</td>\n",
       "      <td>1</td>\n",
       "      <td>15.27%</td>\n",
       "      <td>59.83</td>\n",
       "      <td>C</td>\n",
       "      <td>C4</td>\n",
       "      <td>&lt; 1 year</td>\n",
       "      <td>RENT</td>\n",
       "      <td>...</td>\n",
       "      <td>1008.710000</td>\n",
       "      <td>456.46</td>\n",
       "      <td>435.17</td>\n",
       "      <td>0.0</td>\n",
       "      <td>117.08</td>\n",
       "      <td>1.11</td>\n",
       "      <td>Apr-13</td>\n",
       "      <td>119.66</td>\n",
       "      <td>Sep-13</td>\n",
       "      <td>0.0</td>\n",
       "    </tr>\n",
       "  </tbody>\n",
       "</table>\n",
       "<p>2 rows × 39 columns</p>\n",
       "</div>"
      ],
      "text/plain": [
       "   loan_amnt  funded_amnt  funded_amnt_inv  term int_rate  installment grade  \\\n",
       "0       5000         5000           4975.0     0   10.65%       162.87     B   \n",
       "1       2500         2500           2500.0     1   15.27%        59.83     C   \n",
       "\n",
       "  sub_grade emp_length home_ownership  ...  total_pymnt total_rec_prncp  \\\n",
       "0        B2  10+ years           RENT  ...  5863.155187         5000.00   \n",
       "1        C4   < 1 year           RENT  ...  1008.710000          456.46   \n",
       "\n",
       "  total_rec_int total_rec_late_fee recoveries collection_recovery_fee  \\\n",
       "0        863.16                0.0       0.00                    0.00   \n",
       "1        435.17                0.0     117.08                    1.11   \n",
       "\n",
       "  last_pymnt_d  last_pymnt_amnt  last_credit_pull_d pub_rec_bankruptcies  \n",
       "0       Jan-15           171.62              May-16                  0.0  \n",
       "1       Apr-13           119.66              Sep-13                  0.0  \n",
       "\n",
       "[2 rows x 39 columns]"
      ]
     },
     "execution_count": 53,
     "metadata": {},
     "output_type": "execute_result"
    }
   ],
   "source": [
    "# Column 'term' has two types of entries, 36 months and 60 months. So re-lebeling them as '0' and '1' resp\n",
    "le = LabelEncoder()\n",
    "new_data['term'] = le.fit_transform(new_data['term']) \n",
    "print(\"After applying LabelEncoder:\")\n",
    "new_data.head(2)"
   ]
  },
  {
   "cell_type": "code",
   "execution_count": 54,
   "id": "331c5453",
   "metadata": {},
   "outputs": [
    {
     "name": "stdout",
     "output_type": "stream",
     "text": [
      "After applying LabelEncoder:\n"
     ]
    },
    {
     "data": {
      "text/html": [
       "<div>\n",
       "<style scoped>\n",
       "    .dataframe tbody tr th:only-of-type {\n",
       "        vertical-align: middle;\n",
       "    }\n",
       "\n",
       "    .dataframe tbody tr th {\n",
       "        vertical-align: top;\n",
       "    }\n",
       "\n",
       "    .dataframe thead th {\n",
       "        text-align: right;\n",
       "    }\n",
       "</style>\n",
       "<table border=\"1\" class=\"dataframe\">\n",
       "  <thead>\n",
       "    <tr style=\"text-align: right;\">\n",
       "      <th></th>\n",
       "      <th>loan_amnt</th>\n",
       "      <th>funded_amnt</th>\n",
       "      <th>funded_amnt_inv</th>\n",
       "      <th>term</th>\n",
       "      <th>int_rate</th>\n",
       "      <th>installment</th>\n",
       "      <th>grade</th>\n",
       "      <th>sub_grade</th>\n",
       "      <th>emp_length</th>\n",
       "      <th>home_ownership</th>\n",
       "      <th>...</th>\n",
       "      <th>total_pymnt</th>\n",
       "      <th>total_rec_prncp</th>\n",
       "      <th>total_rec_int</th>\n",
       "      <th>total_rec_late_fee</th>\n",
       "      <th>recoveries</th>\n",
       "      <th>collection_recovery_fee</th>\n",
       "      <th>last_pymnt_d</th>\n",
       "      <th>last_pymnt_amnt</th>\n",
       "      <th>last_credit_pull_d</th>\n",
       "      <th>pub_rec_bankruptcies</th>\n",
       "    </tr>\n",
       "  </thead>\n",
       "  <tbody>\n",
       "    <tr>\n",
       "      <th>0</th>\n",
       "      <td>5000</td>\n",
       "      <td>5000</td>\n",
       "      <td>4975.0</td>\n",
       "      <td>0</td>\n",
       "      <td>10.65%</td>\n",
       "      <td>162.87</td>\n",
       "      <td>1</td>\n",
       "      <td>B2</td>\n",
       "      <td>10+ years</td>\n",
       "      <td>RENT</td>\n",
       "      <td>...</td>\n",
       "      <td>5863.155187</td>\n",
       "      <td>5000.00</td>\n",
       "      <td>863.16</td>\n",
       "      <td>0.0</td>\n",
       "      <td>0.00</td>\n",
       "      <td>0.00</td>\n",
       "      <td>Jan-15</td>\n",
       "      <td>171.62</td>\n",
       "      <td>May-16</td>\n",
       "      <td>0.0</td>\n",
       "    </tr>\n",
       "    <tr>\n",
       "      <th>1</th>\n",
       "      <td>2500</td>\n",
       "      <td>2500</td>\n",
       "      <td>2500.0</td>\n",
       "      <td>1</td>\n",
       "      <td>15.27%</td>\n",
       "      <td>59.83</td>\n",
       "      <td>2</td>\n",
       "      <td>C4</td>\n",
       "      <td>&lt; 1 year</td>\n",
       "      <td>RENT</td>\n",
       "      <td>...</td>\n",
       "      <td>1008.710000</td>\n",
       "      <td>456.46</td>\n",
       "      <td>435.17</td>\n",
       "      <td>0.0</td>\n",
       "      <td>117.08</td>\n",
       "      <td>1.11</td>\n",
       "      <td>Apr-13</td>\n",
       "      <td>119.66</td>\n",
       "      <td>Sep-13</td>\n",
       "      <td>0.0</td>\n",
       "    </tr>\n",
       "  </tbody>\n",
       "</table>\n",
       "<p>2 rows × 39 columns</p>\n",
       "</div>"
      ],
      "text/plain": [
       "   loan_amnt  funded_amnt  funded_amnt_inv  term int_rate  installment  grade  \\\n",
       "0       5000         5000           4975.0     0   10.65%       162.87      1   \n",
       "1       2500         2500           2500.0     1   15.27%        59.83      2   \n",
       "\n",
       "  sub_grade emp_length home_ownership  ...  total_pymnt total_rec_prncp  \\\n",
       "0        B2  10+ years           RENT  ...  5863.155187         5000.00   \n",
       "1        C4   < 1 year           RENT  ...  1008.710000          456.46   \n",
       "\n",
       "  total_rec_int total_rec_late_fee recoveries collection_recovery_fee  \\\n",
       "0        863.16                0.0       0.00                    0.00   \n",
       "1        435.17                0.0     117.08                    1.11   \n",
       "\n",
       "  last_pymnt_d  last_pymnt_amnt  last_credit_pull_d pub_rec_bankruptcies  \n",
       "0       Jan-15           171.62              May-16                  0.0  \n",
       "1       Apr-13           119.66              Sep-13                  0.0  \n",
       "\n",
       "[2 rows x 39 columns]"
      ]
     },
     "execution_count": 54,
     "metadata": {},
     "output_type": "execute_result"
    }
   ],
   "source": [
    "# Column 'grade' has 7 types of entries, A, B, C, D, E, F,G. So re-lebeling them as '0' to '6' respectively\n",
    "le = LabelEncoder()\n",
    "new_data['grade'] = le.fit_transform(new_data['grade']) \n",
    "print(\"After applying LabelEncoder:\")\n",
    "new_data.head(2)"
   ]
  },
  {
   "cell_type": "code",
   "execution_count": 55,
   "id": "65cd2544",
   "metadata": {},
   "outputs": [
    {
     "name": "stdout",
     "output_type": "stream",
     "text": [
      "After applying LabelEncoder:\n"
     ]
    },
    {
     "data": {
      "text/html": [
       "<div>\n",
       "<style scoped>\n",
       "    .dataframe tbody tr th:only-of-type {\n",
       "        vertical-align: middle;\n",
       "    }\n",
       "\n",
       "    .dataframe tbody tr th {\n",
       "        vertical-align: top;\n",
       "    }\n",
       "\n",
       "    .dataframe thead th {\n",
       "        text-align: right;\n",
       "    }\n",
       "</style>\n",
       "<table border=\"1\" class=\"dataframe\">\n",
       "  <thead>\n",
       "    <tr style=\"text-align: right;\">\n",
       "      <th></th>\n",
       "      <th>loan_amnt</th>\n",
       "      <th>funded_amnt</th>\n",
       "      <th>funded_amnt_inv</th>\n",
       "      <th>term</th>\n",
       "      <th>int_rate</th>\n",
       "      <th>installment</th>\n",
       "      <th>grade</th>\n",
       "      <th>sub_grade</th>\n",
       "      <th>emp_length</th>\n",
       "      <th>home_ownership</th>\n",
       "      <th>...</th>\n",
       "      <th>total_pymnt</th>\n",
       "      <th>total_rec_prncp</th>\n",
       "      <th>total_rec_int</th>\n",
       "      <th>total_rec_late_fee</th>\n",
       "      <th>recoveries</th>\n",
       "      <th>collection_recovery_fee</th>\n",
       "      <th>last_pymnt_d</th>\n",
       "      <th>last_pymnt_amnt</th>\n",
       "      <th>last_credit_pull_d</th>\n",
       "      <th>pub_rec_bankruptcies</th>\n",
       "    </tr>\n",
       "  </thead>\n",
       "  <tbody>\n",
       "    <tr>\n",
       "      <th>0</th>\n",
       "      <td>5000</td>\n",
       "      <td>5000</td>\n",
       "      <td>4975.0</td>\n",
       "      <td>0</td>\n",
       "      <td>10.65%</td>\n",
       "      <td>162.87</td>\n",
       "      <td>1</td>\n",
       "      <td>6</td>\n",
       "      <td>10+ years</td>\n",
       "      <td>RENT</td>\n",
       "      <td>...</td>\n",
       "      <td>5863.155187</td>\n",
       "      <td>5000.00</td>\n",
       "      <td>863.16</td>\n",
       "      <td>0.0</td>\n",
       "      <td>0.00</td>\n",
       "      <td>0.00</td>\n",
       "      <td>Jan-15</td>\n",
       "      <td>171.62</td>\n",
       "      <td>May-16</td>\n",
       "      <td>0.0</td>\n",
       "    </tr>\n",
       "    <tr>\n",
       "      <th>1</th>\n",
       "      <td>2500</td>\n",
       "      <td>2500</td>\n",
       "      <td>2500.0</td>\n",
       "      <td>1</td>\n",
       "      <td>15.27%</td>\n",
       "      <td>59.83</td>\n",
       "      <td>2</td>\n",
       "      <td>13</td>\n",
       "      <td>&lt; 1 year</td>\n",
       "      <td>RENT</td>\n",
       "      <td>...</td>\n",
       "      <td>1008.710000</td>\n",
       "      <td>456.46</td>\n",
       "      <td>435.17</td>\n",
       "      <td>0.0</td>\n",
       "      <td>117.08</td>\n",
       "      <td>1.11</td>\n",
       "      <td>Apr-13</td>\n",
       "      <td>119.66</td>\n",
       "      <td>Sep-13</td>\n",
       "      <td>0.0</td>\n",
       "    </tr>\n",
       "  </tbody>\n",
       "</table>\n",
       "<p>2 rows × 39 columns</p>\n",
       "</div>"
      ],
      "text/plain": [
       "   loan_amnt  funded_amnt  funded_amnt_inv  term int_rate  installment  grade  \\\n",
       "0       5000         5000           4975.0     0   10.65%       162.87      1   \n",
       "1       2500         2500           2500.0     1   15.27%        59.83      2   \n",
       "\n",
       "   sub_grade emp_length home_ownership  ...  total_pymnt total_rec_prncp  \\\n",
       "0          6  10+ years           RENT  ...  5863.155187         5000.00   \n",
       "1         13   < 1 year           RENT  ...  1008.710000          456.46   \n",
       "\n",
       "  total_rec_int total_rec_late_fee recoveries collection_recovery_fee  \\\n",
       "0        863.16                0.0       0.00                    0.00   \n",
       "1        435.17                0.0     117.08                    1.11   \n",
       "\n",
       "  last_pymnt_d  last_pymnt_amnt  last_credit_pull_d pub_rec_bankruptcies  \n",
       "0       Jan-15           171.62              May-16                  0.0  \n",
       "1       Apr-13           119.66              Sep-13                  0.0  \n",
       "\n",
       "[2 rows x 39 columns]"
      ]
     },
     "execution_count": 55,
     "metadata": {},
     "output_type": "execute_result"
    }
   ],
   "source": [
    "# similarlyy Column 'sub_grade' too is ranked \n",
    "le = LabelEncoder()\n",
    "new_data['sub_grade'] = le.fit_transform(new_data['sub_grade']) \n",
    "print(\"After applying LabelEncoder:\")\n",
    "new_data.head(2)"
   ]
  },
  {
   "cell_type": "code",
   "execution_count": 56,
   "id": "ed96bbfd",
   "metadata": {},
   "outputs": [
    {
     "name": "stdout",
     "output_type": "stream",
     "text": [
      "After applying LabelEncoder:\n"
     ]
    },
    {
     "data": {
      "text/html": [
       "<div>\n",
       "<style scoped>\n",
       "    .dataframe tbody tr th:only-of-type {\n",
       "        vertical-align: middle;\n",
       "    }\n",
       "\n",
       "    .dataframe tbody tr th {\n",
       "        vertical-align: top;\n",
       "    }\n",
       "\n",
       "    .dataframe thead th {\n",
       "        text-align: right;\n",
       "    }\n",
       "</style>\n",
       "<table border=\"1\" class=\"dataframe\">\n",
       "  <thead>\n",
       "    <tr style=\"text-align: right;\">\n",
       "      <th></th>\n",
       "      <th>loan_amnt</th>\n",
       "      <th>funded_amnt</th>\n",
       "      <th>funded_amnt_inv</th>\n",
       "      <th>term</th>\n",
       "      <th>int_rate</th>\n",
       "      <th>installment</th>\n",
       "      <th>grade</th>\n",
       "      <th>sub_grade</th>\n",
       "      <th>emp_length</th>\n",
       "      <th>home_ownership</th>\n",
       "      <th>...</th>\n",
       "      <th>total_pymnt</th>\n",
       "      <th>total_rec_prncp</th>\n",
       "      <th>total_rec_int</th>\n",
       "      <th>total_rec_late_fee</th>\n",
       "      <th>recoveries</th>\n",
       "      <th>collection_recovery_fee</th>\n",
       "      <th>last_pymnt_d</th>\n",
       "      <th>last_pymnt_amnt</th>\n",
       "      <th>last_credit_pull_d</th>\n",
       "      <th>pub_rec_bankruptcies</th>\n",
       "    </tr>\n",
       "  </thead>\n",
       "  <tbody>\n",
       "    <tr>\n",
       "      <th>0</th>\n",
       "      <td>5000</td>\n",
       "      <td>5000</td>\n",
       "      <td>4975.0</td>\n",
       "      <td>0</td>\n",
       "      <td>10.65%</td>\n",
       "      <td>162.87</td>\n",
       "      <td>1</td>\n",
       "      <td>6</td>\n",
       "      <td>10+ years</td>\n",
       "      <td>RENT</td>\n",
       "      <td>...</td>\n",
       "      <td>5863.155187</td>\n",
       "      <td>5000.00</td>\n",
       "      <td>863.16</td>\n",
       "      <td>0.0</td>\n",
       "      <td>0.00</td>\n",
       "      <td>0.00</td>\n",
       "      <td>Jan-15</td>\n",
       "      <td>171.62</td>\n",
       "      <td>May-16</td>\n",
       "      <td>0.0</td>\n",
       "    </tr>\n",
       "    <tr>\n",
       "      <th>1</th>\n",
       "      <td>2500</td>\n",
       "      <td>2500</td>\n",
       "      <td>2500.0</td>\n",
       "      <td>1</td>\n",
       "      <td>15.27%</td>\n",
       "      <td>59.83</td>\n",
       "      <td>2</td>\n",
       "      <td>13</td>\n",
       "      <td>&lt; 1 year</td>\n",
       "      <td>RENT</td>\n",
       "      <td>...</td>\n",
       "      <td>1008.710000</td>\n",
       "      <td>456.46</td>\n",
       "      <td>435.17</td>\n",
       "      <td>0.0</td>\n",
       "      <td>117.08</td>\n",
       "      <td>1.11</td>\n",
       "      <td>Apr-13</td>\n",
       "      <td>119.66</td>\n",
       "      <td>Sep-13</td>\n",
       "      <td>0.0</td>\n",
       "    </tr>\n",
       "  </tbody>\n",
       "</table>\n",
       "<p>2 rows × 39 columns</p>\n",
       "</div>"
      ],
      "text/plain": [
       "   loan_amnt  funded_amnt  funded_amnt_inv  term int_rate  installment  grade  \\\n",
       "0       5000         5000           4975.0     0   10.65%       162.87      1   \n",
       "1       2500         2500           2500.0     1   15.27%        59.83      2   \n",
       "\n",
       "   sub_grade emp_length home_ownership  ...  total_pymnt total_rec_prncp  \\\n",
       "0          6  10+ years           RENT  ...  5863.155187         5000.00   \n",
       "1         13   < 1 year           RENT  ...  1008.710000          456.46   \n",
       "\n",
       "  total_rec_int  total_rec_late_fee recoveries collection_recovery_fee  \\\n",
       "0        863.16                 0.0       0.00                    0.00   \n",
       "1        435.17                 0.0     117.08                    1.11   \n",
       "\n",
       "  last_pymnt_d  last_pymnt_amnt  last_credit_pull_d pub_rec_bankruptcies  \n",
       "0       Jan-15           171.62              May-16                  0.0  \n",
       "1       Apr-13           119.66              Sep-13                  0.0  \n",
       "\n",
       "[2 rows x 39 columns]"
      ]
     },
     "execution_count": 56,
     "metadata": {},
     "output_type": "execute_result"
    }
   ],
   "source": [
    "# Column 'loan_status' has three types of entries, 'Charged Off', 'Current'  and 'Fully Paid'. So re-lebelling them as '0', '1' and '2' resp\n",
    "le = LabelEncoder()\n",
    "new_data['loan_status'] = le.fit_transform(new_data['loan_status']) \n",
    "print(\"After applying LabelEncoder:\")\n",
    "new_data.head(2)"
   ]
  },
  {
   "cell_type": "code",
   "execution_count": 57,
   "id": "0600e9c7",
   "metadata": {},
   "outputs": [
    {
     "name": "stdout",
     "output_type": "stream",
     "text": [
      "After applying LabelEncoder:\n"
     ]
    },
    {
     "data": {
      "text/html": [
       "<div>\n",
       "<style scoped>\n",
       "    .dataframe tbody tr th:only-of-type {\n",
       "        vertical-align: middle;\n",
       "    }\n",
       "\n",
       "    .dataframe tbody tr th {\n",
       "        vertical-align: top;\n",
       "    }\n",
       "\n",
       "    .dataframe thead th {\n",
       "        text-align: right;\n",
       "    }\n",
       "</style>\n",
       "<table border=\"1\" class=\"dataframe\">\n",
       "  <thead>\n",
       "    <tr style=\"text-align: right;\">\n",
       "      <th></th>\n",
       "      <th>loan_amnt</th>\n",
       "      <th>funded_amnt</th>\n",
       "      <th>funded_amnt_inv</th>\n",
       "      <th>term</th>\n",
       "      <th>int_rate</th>\n",
       "      <th>installment</th>\n",
       "      <th>grade</th>\n",
       "      <th>sub_grade</th>\n",
       "      <th>emp_length</th>\n",
       "      <th>home_ownership</th>\n",
       "      <th>...</th>\n",
       "      <th>total_pymnt</th>\n",
       "      <th>total_rec_prncp</th>\n",
       "      <th>total_rec_int</th>\n",
       "      <th>total_rec_late_fee</th>\n",
       "      <th>recoveries</th>\n",
       "      <th>collection_recovery_fee</th>\n",
       "      <th>last_pymnt_d</th>\n",
       "      <th>last_pymnt_amnt</th>\n",
       "      <th>last_credit_pull_d</th>\n",
       "      <th>pub_rec_bankruptcies</th>\n",
       "    </tr>\n",
       "  </thead>\n",
       "  <tbody>\n",
       "    <tr>\n",
       "      <th>0</th>\n",
       "      <td>5000</td>\n",
       "      <td>5000</td>\n",
       "      <td>4975.0</td>\n",
       "      <td>0</td>\n",
       "      <td>10.65%</td>\n",
       "      <td>162.87</td>\n",
       "      <td>1</td>\n",
       "      <td>6</td>\n",
       "      <td>10+ years</td>\n",
       "      <td>3</td>\n",
       "      <td>...</td>\n",
       "      <td>5863.155187</td>\n",
       "      <td>5000.00</td>\n",
       "      <td>863.16</td>\n",
       "      <td>0.0</td>\n",
       "      <td>0.00</td>\n",
       "      <td>0.00</td>\n",
       "      <td>Jan-15</td>\n",
       "      <td>171.62</td>\n",
       "      <td>May-16</td>\n",
       "      <td>0.0</td>\n",
       "    </tr>\n",
       "    <tr>\n",
       "      <th>1</th>\n",
       "      <td>2500</td>\n",
       "      <td>2500</td>\n",
       "      <td>2500.0</td>\n",
       "      <td>1</td>\n",
       "      <td>15.27%</td>\n",
       "      <td>59.83</td>\n",
       "      <td>2</td>\n",
       "      <td>13</td>\n",
       "      <td>&lt; 1 year</td>\n",
       "      <td>3</td>\n",
       "      <td>...</td>\n",
       "      <td>1008.710000</td>\n",
       "      <td>456.46</td>\n",
       "      <td>435.17</td>\n",
       "      <td>0.0</td>\n",
       "      <td>117.08</td>\n",
       "      <td>1.11</td>\n",
       "      <td>Apr-13</td>\n",
       "      <td>119.66</td>\n",
       "      <td>Sep-13</td>\n",
       "      <td>0.0</td>\n",
       "    </tr>\n",
       "  </tbody>\n",
       "</table>\n",
       "<p>2 rows × 39 columns</p>\n",
       "</div>"
      ],
      "text/plain": [
       "   loan_amnt  funded_amnt  funded_amnt_inv  term int_rate  installment  grade  \\\n",
       "0       5000         5000           4975.0     0   10.65%       162.87      1   \n",
       "1       2500         2500           2500.0     1   15.27%        59.83      2   \n",
       "\n",
       "   sub_grade emp_length  home_ownership  ...  total_pymnt total_rec_prncp  \\\n",
       "0          6  10+ years               3  ...  5863.155187         5000.00   \n",
       "1         13   < 1 year               3  ...  1008.710000          456.46   \n",
       "\n",
       "  total_rec_int  total_rec_late_fee recoveries collection_recovery_fee  \\\n",
       "0        863.16                 0.0       0.00                    0.00   \n",
       "1        435.17                 0.0     117.08                    1.11   \n",
       "\n",
       "  last_pymnt_d  last_pymnt_amnt  last_credit_pull_d pub_rec_bankruptcies  \n",
       "0       Jan-15           171.62              May-16                  0.0  \n",
       "1       Apr-13           119.66              Sep-13                  0.0  \n",
       "\n",
       "[2 rows x 39 columns]"
      ]
     },
     "execution_count": 57,
     "metadata": {},
     "output_type": "execute_result"
    }
   ],
   "source": [
    "# Column 'home_ownership' has four types of entries, 'MORTGAGE', 'RENT', 'OWN' , 'NONE' and 'OTHER'\n",
    "# As 'NONE' and 'OTHER' both are not contibuting in givingg info on ome ownership, they are alike for us\n",
    "# So replacing 'OTHER' by 'NONE'\n",
    "# and re-lebelling 'MORTGAGE', 'NONE', 'OWN' and 'RENT', as '0', '1', '2' and '3' resp\n",
    "\n",
    "new_data.loc[new_data[\"home_ownership\"] == \"OTHER\", \"home_ownership\"] = 'NONE' \n",
    "\n",
    "le = LabelEncoder()\n",
    "new_data['home_ownership'] = le.fit_transform(new_data['home_ownership']) \n",
    "print(\"After applying LabelEncoder:\")\n",
    "new_data.head(2)"
   ]
  },
  {
   "cell_type": "code",
   "execution_count": 58,
   "id": "aaac8412",
   "metadata": {},
   "outputs": [
    {
     "name": "stdout",
     "output_type": "stream",
     "text": [
      "After applying LabelEncoder:\n"
     ]
    },
    {
     "data": {
      "text/html": [
       "<div>\n",
       "<style scoped>\n",
       "    .dataframe tbody tr th:only-of-type {\n",
       "        vertical-align: middle;\n",
       "    }\n",
       "\n",
       "    .dataframe tbody tr th {\n",
       "        vertical-align: top;\n",
       "    }\n",
       "\n",
       "    .dataframe thead th {\n",
       "        text-align: right;\n",
       "    }\n",
       "</style>\n",
       "<table border=\"1\" class=\"dataframe\">\n",
       "  <thead>\n",
       "    <tr style=\"text-align: right;\">\n",
       "      <th></th>\n",
       "      <th>loan_amnt</th>\n",
       "      <th>funded_amnt</th>\n",
       "      <th>funded_amnt_inv</th>\n",
       "      <th>term</th>\n",
       "      <th>int_rate</th>\n",
       "      <th>installment</th>\n",
       "      <th>grade</th>\n",
       "      <th>sub_grade</th>\n",
       "      <th>emp_length</th>\n",
       "      <th>home_ownership</th>\n",
       "      <th>...</th>\n",
       "      <th>total_pymnt</th>\n",
       "      <th>total_rec_prncp</th>\n",
       "      <th>total_rec_int</th>\n",
       "      <th>total_rec_late_fee</th>\n",
       "      <th>recoveries</th>\n",
       "      <th>collection_recovery_fee</th>\n",
       "      <th>last_pymnt_d</th>\n",
       "      <th>last_pymnt_amnt</th>\n",
       "      <th>last_credit_pull_d</th>\n",
       "      <th>pub_rec_bankruptcies</th>\n",
       "    </tr>\n",
       "  </thead>\n",
       "  <tbody>\n",
       "    <tr>\n",
       "      <th>0</th>\n",
       "      <td>5000</td>\n",
       "      <td>5000</td>\n",
       "      <td>4975.0</td>\n",
       "      <td>0</td>\n",
       "      <td>10.65%</td>\n",
       "      <td>162.87</td>\n",
       "      <td>1</td>\n",
       "      <td>6</td>\n",
       "      <td>10+ years</td>\n",
       "      <td>3</td>\n",
       "      <td>...</td>\n",
       "      <td>5863.155187</td>\n",
       "      <td>5000.00</td>\n",
       "      <td>863.16</td>\n",
       "      <td>0.0</td>\n",
       "      <td>0.00</td>\n",
       "      <td>0.00</td>\n",
       "      <td>Jan-15</td>\n",
       "      <td>171.62</td>\n",
       "      <td>May-16</td>\n",
       "      <td>0.0</td>\n",
       "    </tr>\n",
       "    <tr>\n",
       "      <th>1</th>\n",
       "      <td>2500</td>\n",
       "      <td>2500</td>\n",
       "      <td>2500.0</td>\n",
       "      <td>1</td>\n",
       "      <td>15.27%</td>\n",
       "      <td>59.83</td>\n",
       "      <td>2</td>\n",
       "      <td>13</td>\n",
       "      <td>&lt; 1 year</td>\n",
       "      <td>3</td>\n",
       "      <td>...</td>\n",
       "      <td>1008.710000</td>\n",
       "      <td>456.46</td>\n",
       "      <td>435.17</td>\n",
       "      <td>0.0</td>\n",
       "      <td>117.08</td>\n",
       "      <td>1.11</td>\n",
       "      <td>Apr-13</td>\n",
       "      <td>119.66</td>\n",
       "      <td>Sep-13</td>\n",
       "      <td>0.0</td>\n",
       "    </tr>\n",
       "  </tbody>\n",
       "</table>\n",
       "<p>2 rows × 39 columns</p>\n",
       "</div>"
      ],
      "text/plain": [
       "   loan_amnt  funded_amnt  funded_amnt_inv  term int_rate  installment  grade  \\\n",
       "0       5000         5000           4975.0     0   10.65%       162.87      1   \n",
       "1       2500         2500           2500.0     1   15.27%        59.83      2   \n",
       "\n",
       "   sub_grade emp_length  home_ownership  ...  total_pymnt  total_rec_prncp  \\\n",
       "0          6  10+ years               3  ...  5863.155187          5000.00   \n",
       "1         13   < 1 year               3  ...  1008.710000           456.46   \n",
       "\n",
       "  total_rec_int  total_rec_late_fee recoveries collection_recovery_fee  \\\n",
       "0        863.16                 0.0       0.00                    0.00   \n",
       "1        435.17                 0.0     117.08                    1.11   \n",
       "\n",
       "  last_pymnt_d  last_pymnt_amnt  last_credit_pull_d pub_rec_bankruptcies  \n",
       "0       Jan-15           171.62              May-16                  0.0  \n",
       "1       Apr-13           119.66              Sep-13                  0.0  \n",
       "\n",
       "[2 rows x 39 columns]"
      ]
     },
     "execution_count": 58,
     "metadata": {},
     "output_type": "execute_result"
    }
   ],
   "source": [
    "# Column 'verification_status' has three types of entries, 'Not Verified', 'Verified' and 'Source Verified'. \n",
    "# So re-lebelling them as '0', '1' and '2' resp\n",
    "le = LabelEncoder()\n",
    "new_data['verification_status'] = le.fit_transform(new_data['verification_status']) \n",
    "print(\"After applying LabelEncoder:\")\n",
    "new_data.head(2)"
   ]
  },
  {
   "cell_type": "code",
   "execution_count": 59,
   "id": "037d2814",
   "metadata": {},
   "outputs": [
    {
     "name": "stderr",
     "output_type": "stream",
     "text": [
      "C:\\Users\\Dell\\AppData\\Local\\Temp\\ipykernel_6076\\4149715943.py:2: FutureWarning: The default value of regex will change from True to False in a future version.\n",
      "  new_data['int_rate'] = new_data['int_rate'].str.replace('[%]', '')\n"
     ]
    },
    {
     "data": {
      "text/html": [
       "<div>\n",
       "<style scoped>\n",
       "    .dataframe tbody tr th:only-of-type {\n",
       "        vertical-align: middle;\n",
       "    }\n",
       "\n",
       "    .dataframe tbody tr th {\n",
       "        vertical-align: top;\n",
       "    }\n",
       "\n",
       "    .dataframe thead th {\n",
       "        text-align: right;\n",
       "    }\n",
       "</style>\n",
       "<table border=\"1\" class=\"dataframe\">\n",
       "  <thead>\n",
       "    <tr style=\"text-align: right;\">\n",
       "      <th></th>\n",
       "      <th>loan_amnt</th>\n",
       "      <th>funded_amnt</th>\n",
       "      <th>funded_amnt_inv</th>\n",
       "      <th>term</th>\n",
       "      <th>int_rate</th>\n",
       "      <th>installment</th>\n",
       "      <th>grade</th>\n",
       "      <th>sub_grade</th>\n",
       "      <th>emp_length</th>\n",
       "      <th>home_ownership</th>\n",
       "      <th>...</th>\n",
       "      <th>total_pymnt</th>\n",
       "      <th>total_rec_prncp</th>\n",
       "      <th>total_rec_int</th>\n",
       "      <th>total_rec_late_fee</th>\n",
       "      <th>recoveries</th>\n",
       "      <th>collection_recovery_fee</th>\n",
       "      <th>last_pymnt_d</th>\n",
       "      <th>last_pymnt_amnt</th>\n",
       "      <th>last_credit_pull_d</th>\n",
       "      <th>pub_rec_bankruptcies</th>\n",
       "    </tr>\n",
       "  </thead>\n",
       "  <tbody>\n",
       "    <tr>\n",
       "      <th>0</th>\n",
       "      <td>5000</td>\n",
       "      <td>5000</td>\n",
       "      <td>4975.0</td>\n",
       "      <td>36 months</td>\n",
       "      <td>10.65%</td>\n",
       "      <td>162.87</td>\n",
       "      <td>B</td>\n",
       "      <td>B2</td>\n",
       "      <td>10+ years</td>\n",
       "      <td>RENT</td>\n",
       "      <td>...</td>\n",
       "      <td>5863.155187</td>\n",
       "      <td>5000.00</td>\n",
       "      <td>863.16</td>\n",
       "      <td>0.0</td>\n",
       "      <td>0.00</td>\n",
       "      <td>0.00</td>\n",
       "      <td>Jan-15</td>\n",
       "      <td>171.62</td>\n",
       "      <td>May-16</td>\n",
       "      <td>0.0</td>\n",
       "    </tr>\n",
       "    <tr>\n",
       "      <th>1</th>\n",
       "      <td>2500</td>\n",
       "      <td>2500</td>\n",
       "      <td>2500.0</td>\n",
       "      <td>60 months</td>\n",
       "      <td>15.27%</td>\n",
       "      <td>59.83</td>\n",
       "      <td>C</td>\n",
       "      <td>C4</td>\n",
       "      <td>&lt; 1 year</td>\n",
       "      <td>RENT</td>\n",
       "      <td>...</td>\n",
       "      <td>1008.710000</td>\n",
       "      <td>456.46</td>\n",
       "      <td>435.17</td>\n",
       "      <td>0.0</td>\n",
       "      <td>117.08</td>\n",
       "      <td>1.11</td>\n",
       "      <td>Apr-13</td>\n",
       "      <td>119.66</td>\n",
       "      <td>Sep-13</td>\n",
       "      <td>0.0</td>\n",
       "    </tr>\n",
       "  </tbody>\n",
       "</table>\n",
       "<p>2 rows × 39 columns</p>\n",
       "</div>"
      ],
      "text/plain": [
       "   loan_amnt  funded_amnt  funded_amnt_inv        term int_rate  installment  \\\n",
       "0       5000         5000           4975.0   36 months   10.65%       162.87   \n",
       "1       2500         2500           2500.0   60 months   15.27%        59.83   \n",
       "\n",
       "  grade sub_grade emp_length home_ownership  ...  total_pymnt total_rec_prncp  \\\n",
       "0     B        B2  10+ years           RENT  ...  5863.155187         5000.00   \n",
       "1     C        C4   < 1 year           RENT  ...  1008.710000          456.46   \n",
       "\n",
       "  total_rec_int total_rec_late_fee recoveries collection_recovery_fee  \\\n",
       "0        863.16                0.0       0.00                    0.00   \n",
       "1        435.17                0.0     117.08                    1.11   \n",
       "\n",
       "  last_pymnt_d  last_pymnt_amnt  last_credit_pull_d pub_rec_bankruptcies  \n",
       "0       Jan-15           171.62              May-16                  0.0  \n",
       "1       Apr-13           119.66              Sep-13                  0.0  \n",
       "\n",
       "[2 rows x 39 columns]"
      ]
     },
     "execution_count": 59,
     "metadata": {},
     "output_type": "execute_result"
    }
   ],
   "source": [
    "# Column 'int_rate' has interest rate value followed by '%', so removing '%' and transforming column data to tye 'float'\n",
    "new_data['int_rate'] = new_data['int_rate'].str.replace('[%]', '')\n",
    "# convert column \"int_rate\" of a DataFrame\n",
    "new_data[\"int_rate\"] = pd.to_numeric(new_data[\"int_rate\"])\n",
    "\n",
    "\n",
    "data.head(2)"
   ]
  },
  {
   "cell_type": "code",
   "execution_count": 60,
   "id": "376cc175",
   "metadata": {},
   "outputs": [
    {
     "name": "stderr",
     "output_type": "stream",
     "text": [
      "C:\\Users\\Dell\\AppData\\Local\\Temp\\ipykernel_6076\\850720736.py:5: FutureWarning: The default value of regex will change from True to False in a future version.\n",
      "  new_data['emp_length'] = new_data['emp_length'].str.replace('[years, year, +, <]', '')\n"
     ]
    },
    {
     "data": {
      "text/html": [
       "<div>\n",
       "<style scoped>\n",
       "    .dataframe tbody tr th:only-of-type {\n",
       "        vertical-align: middle;\n",
       "    }\n",
       "\n",
       "    .dataframe tbody tr th {\n",
       "        vertical-align: top;\n",
       "    }\n",
       "\n",
       "    .dataframe thead th {\n",
       "        text-align: right;\n",
       "    }\n",
       "</style>\n",
       "<table border=\"1\" class=\"dataframe\">\n",
       "  <thead>\n",
       "    <tr style=\"text-align: right;\">\n",
       "      <th></th>\n",
       "      <th>loan_amnt</th>\n",
       "      <th>funded_amnt</th>\n",
       "      <th>funded_amnt_inv</th>\n",
       "      <th>term</th>\n",
       "      <th>int_rate</th>\n",
       "      <th>installment</th>\n",
       "      <th>grade</th>\n",
       "      <th>sub_grade</th>\n",
       "      <th>emp_length</th>\n",
       "      <th>home_ownership</th>\n",
       "      <th>...</th>\n",
       "      <th>total_pymnt</th>\n",
       "      <th>total_rec_prncp</th>\n",
       "      <th>total_rec_int</th>\n",
       "      <th>total_rec_late_fee</th>\n",
       "      <th>recoveries</th>\n",
       "      <th>collection_recovery_fee</th>\n",
       "      <th>last_pymnt_d</th>\n",
       "      <th>last_pymnt_amnt</th>\n",
       "      <th>last_credit_pull_d</th>\n",
       "      <th>pub_rec_bankruptcies</th>\n",
       "    </tr>\n",
       "  </thead>\n",
       "  <tbody>\n",
       "    <tr>\n",
       "      <th>0</th>\n",
       "      <td>5000</td>\n",
       "      <td>5000</td>\n",
       "      <td>4975.0</td>\n",
       "      <td>0</td>\n",
       "      <td>10.65</td>\n",
       "      <td>162.87</td>\n",
       "      <td>1</td>\n",
       "      <td>6</td>\n",
       "      <td>10.0</td>\n",
       "      <td>3</td>\n",
       "      <td>...</td>\n",
       "      <td>5863.155187</td>\n",
       "      <td>5000.00</td>\n",
       "      <td>863.16</td>\n",
       "      <td>0.0</td>\n",
       "      <td>0.00</td>\n",
       "      <td>0.00</td>\n",
       "      <td>Jan-15</td>\n",
       "      <td>171.62</td>\n",
       "      <td>May-16</td>\n",
       "      <td>0.0</td>\n",
       "    </tr>\n",
       "    <tr>\n",
       "      <th>1</th>\n",
       "      <td>2500</td>\n",
       "      <td>2500</td>\n",
       "      <td>2500.0</td>\n",
       "      <td>1</td>\n",
       "      <td>15.27</td>\n",
       "      <td>59.83</td>\n",
       "      <td>2</td>\n",
       "      <td>13</td>\n",
       "      <td>1.0</td>\n",
       "      <td>3</td>\n",
       "      <td>...</td>\n",
       "      <td>1008.710000</td>\n",
       "      <td>456.46</td>\n",
       "      <td>435.17</td>\n",
       "      <td>0.0</td>\n",
       "      <td>117.08</td>\n",
       "      <td>1.11</td>\n",
       "      <td>Apr-13</td>\n",
       "      <td>119.66</td>\n",
       "      <td>Sep-13</td>\n",
       "      <td>0.0</td>\n",
       "    </tr>\n",
       "  </tbody>\n",
       "</table>\n",
       "<p>2 rows × 39 columns</p>\n",
       "</div>"
      ],
      "text/plain": [
       "   loan_amnt  funded_amnt  funded_amnt_inv  term  int_rate  installment  \\\n",
       "0       5000         5000           4975.0     0     10.65       162.87   \n",
       "1       2500         2500           2500.0     1     15.27        59.83   \n",
       "\n",
       "   grade  sub_grade  emp_length  home_ownership  ...  total_pymnt  \\\n",
       "0      1          6        10.0               3  ...  5863.155187   \n",
       "1      2         13         1.0               3  ...  1008.710000   \n",
       "\n",
       "   total_rec_prncp total_rec_int  total_rec_late_fee recoveries  \\\n",
       "0          5000.00        863.16                 0.0       0.00   \n",
       "1           456.46        435.17                 0.0     117.08   \n",
       "\n",
       "  collection_recovery_fee last_pymnt_d  last_pymnt_amnt  last_credit_pull_d  \\\n",
       "0                    0.00       Jan-15           171.62              May-16   \n",
       "1                    1.11       Apr-13           119.66              Sep-13   \n",
       "\n",
       "  pub_rec_bankruptcies  \n",
       "0                  0.0  \n",
       "1                  0.0  \n",
       "\n",
       "[2 rows x 39 columns]"
      ]
     },
     "execution_count": 60,
     "metadata": {},
     "output_type": "execute_result"
    }
   ],
   "source": [
    "\n",
    "# Column 'emp_length' has manyy characters besides number of years which is a numerical value\n",
    "# so removing all characters tat are not a number\n",
    "# and assuming tat < 1 is equivalent to 1 year. And 10+ is same as 10 years.\n",
    "# and transforming column data to tye 'float'\n",
    "new_data['emp_length'] = new_data['emp_length'].str.replace('[years, year, +, <]', '')\n",
    "# convert column \"int_rate\" of a DataFrame\n",
    "new_data[\"emp_length\"] = pd.to_numeric(new_data[\"emp_length\"])\n",
    "\n",
    "\n",
    "new_data.head(2)"
   ]
  },
  {
   "cell_type": "code",
   "execution_count": 61,
   "id": "11978214",
   "metadata": {},
   "outputs": [
    {
     "name": "stderr",
     "output_type": "stream",
     "text": [
      "C:\\Users\\Dell\\AppData\\Local\\Temp\\ipykernel_6076\\3698476662.py:2: FutureWarning: The default value of regex will change from True to False in a future version.\n",
      "  new_data['zip_code'] = new_data['zip_code'].str.replace('[xx]', '')\n"
     ]
    },
    {
     "data": {
      "text/html": [
       "<div>\n",
       "<style scoped>\n",
       "    .dataframe tbody tr th:only-of-type {\n",
       "        vertical-align: middle;\n",
       "    }\n",
       "\n",
       "    .dataframe tbody tr th {\n",
       "        vertical-align: top;\n",
       "    }\n",
       "\n",
       "    .dataframe thead th {\n",
       "        text-align: right;\n",
       "    }\n",
       "</style>\n",
       "<table border=\"1\" class=\"dataframe\">\n",
       "  <thead>\n",
       "    <tr style=\"text-align: right;\">\n",
       "      <th></th>\n",
       "      <th>loan_amnt</th>\n",
       "      <th>funded_amnt</th>\n",
       "      <th>funded_amnt_inv</th>\n",
       "      <th>term</th>\n",
       "      <th>int_rate</th>\n",
       "      <th>installment</th>\n",
       "      <th>grade</th>\n",
       "      <th>sub_grade</th>\n",
       "      <th>emp_length</th>\n",
       "      <th>home_ownership</th>\n",
       "      <th>...</th>\n",
       "      <th>total_pymnt</th>\n",
       "      <th>total_rec_prncp</th>\n",
       "      <th>total_rec_int</th>\n",
       "      <th>total_rec_late_fee</th>\n",
       "      <th>recoveries</th>\n",
       "      <th>collection_recovery_fee</th>\n",
       "      <th>last_pymnt_d</th>\n",
       "      <th>last_pymnt_amnt</th>\n",
       "      <th>last_credit_pull_d</th>\n",
       "      <th>pub_rec_bankruptcies</th>\n",
       "    </tr>\n",
       "  </thead>\n",
       "  <tbody>\n",
       "    <tr>\n",
       "      <th>0</th>\n",
       "      <td>5000</td>\n",
       "      <td>5000</td>\n",
       "      <td>4975.0</td>\n",
       "      <td>0</td>\n",
       "      <td>10.65</td>\n",
       "      <td>162.87</td>\n",
       "      <td>1</td>\n",
       "      <td>6</td>\n",
       "      <td>10.0</td>\n",
       "      <td>3</td>\n",
       "      <td>...</td>\n",
       "      <td>5863.155187</td>\n",
       "      <td>5000.00</td>\n",
       "      <td>863.16</td>\n",
       "      <td>0.0</td>\n",
       "      <td>0.00</td>\n",
       "      <td>0.00</td>\n",
       "      <td>Jan-15</td>\n",
       "      <td>171.62</td>\n",
       "      <td>May-16</td>\n",
       "      <td>0.0</td>\n",
       "    </tr>\n",
       "    <tr>\n",
       "      <th>1</th>\n",
       "      <td>2500</td>\n",
       "      <td>2500</td>\n",
       "      <td>2500.0</td>\n",
       "      <td>1</td>\n",
       "      <td>15.27</td>\n",
       "      <td>59.83</td>\n",
       "      <td>2</td>\n",
       "      <td>13</td>\n",
       "      <td>1.0</td>\n",
       "      <td>3</td>\n",
       "      <td>...</td>\n",
       "      <td>1008.710000</td>\n",
       "      <td>456.46</td>\n",
       "      <td>435.17</td>\n",
       "      <td>0.0</td>\n",
       "      <td>117.08</td>\n",
       "      <td>1.11</td>\n",
       "      <td>Apr-13</td>\n",
       "      <td>119.66</td>\n",
       "      <td>Sep-13</td>\n",
       "      <td>0.0</td>\n",
       "    </tr>\n",
       "  </tbody>\n",
       "</table>\n",
       "<p>2 rows × 39 columns</p>\n",
       "</div>"
      ],
      "text/plain": [
       "   loan_amnt  funded_amnt  funded_amnt_inv  term  int_rate  installment  \\\n",
       "0       5000         5000           4975.0     0     10.65       162.87   \n",
       "1       2500         2500           2500.0     1     15.27        59.83   \n",
       "\n",
       "   grade  sub_grade  emp_length  home_ownership  ...  total_pymnt  \\\n",
       "0      1          6        10.0               3  ...  5863.155187   \n",
       "1      2         13         1.0               3  ...  1008.710000   \n",
       "\n",
       "   total_rec_prncp total_rec_int  total_rec_late_fee recoveries  \\\n",
       "0          5000.00        863.16                 0.0       0.00   \n",
       "1           456.46        435.17                 0.0     117.08   \n",
       "\n",
       "  collection_recovery_fee last_pymnt_d  last_pymnt_amnt  last_credit_pull_d  \\\n",
       "0                    0.00       Jan-15           171.62              May-16   \n",
       "1                    1.11       Apr-13           119.66              Sep-13   \n",
       "\n",
       "  pub_rec_bankruptcies  \n",
       "0                  0.0  \n",
       "1                  0.0  \n",
       "\n",
       "[2 rows x 39 columns]"
      ]
     },
     "execution_count": 61,
     "metadata": {},
     "output_type": "execute_result"
    }
   ],
   "source": [
    "# Column 'zip_code' zip code followed by 'xx', so removing 'xx'\n",
    "new_data['zip_code'] = new_data['zip_code'].str.replace('[xx]', '')\n",
    "\n",
    "new_data.head(2)"
   ]
  },
  {
   "cell_type": "code",
   "execution_count": 62,
   "id": "6a64cd68",
   "metadata": {},
   "outputs": [
    {
     "name": "stderr",
     "output_type": "stream",
     "text": [
      "C:\\Users\\Dell\\AppData\\Local\\Temp\\ipykernel_6076\\2848039532.py:2: FutureWarning: The default value of regex will change from True to False in a future version.\n",
      "  new_data['revol_util'] = new_data['revol_util'].str.replace('[%]', '')\n"
     ]
    },
    {
     "data": {
      "text/html": [
       "<div>\n",
       "<style scoped>\n",
       "    .dataframe tbody tr th:only-of-type {\n",
       "        vertical-align: middle;\n",
       "    }\n",
       "\n",
       "    .dataframe tbody tr th {\n",
       "        vertical-align: top;\n",
       "    }\n",
       "\n",
       "    .dataframe thead th {\n",
       "        text-align: right;\n",
       "    }\n",
       "</style>\n",
       "<table border=\"1\" class=\"dataframe\">\n",
       "  <thead>\n",
       "    <tr style=\"text-align: right;\">\n",
       "      <th></th>\n",
       "      <th>loan_amnt</th>\n",
       "      <th>funded_amnt</th>\n",
       "      <th>funded_amnt_inv</th>\n",
       "      <th>term</th>\n",
       "      <th>int_rate</th>\n",
       "      <th>installment</th>\n",
       "      <th>grade</th>\n",
       "      <th>sub_grade</th>\n",
       "      <th>emp_length</th>\n",
       "      <th>home_ownership</th>\n",
       "      <th>...</th>\n",
       "      <th>total_pymnt</th>\n",
       "      <th>total_rec_prncp</th>\n",
       "      <th>total_rec_int</th>\n",
       "      <th>total_rec_late_fee</th>\n",
       "      <th>recoveries</th>\n",
       "      <th>collection_recovery_fee</th>\n",
       "      <th>last_pymnt_d</th>\n",
       "      <th>last_pymnt_amnt</th>\n",
       "      <th>last_credit_pull_d</th>\n",
       "      <th>pub_rec_bankruptcies</th>\n",
       "    </tr>\n",
       "  </thead>\n",
       "  <tbody>\n",
       "    <tr>\n",
       "      <th>0</th>\n",
       "      <td>5000</td>\n",
       "      <td>5000</td>\n",
       "      <td>4975.0</td>\n",
       "      <td>0</td>\n",
       "      <td>10.65</td>\n",
       "      <td>162.87</td>\n",
       "      <td>1</td>\n",
       "      <td>6</td>\n",
       "      <td>10.0</td>\n",
       "      <td>3</td>\n",
       "      <td>...</td>\n",
       "      <td>5863.155187</td>\n",
       "      <td>5000.00</td>\n",
       "      <td>863.16</td>\n",
       "      <td>0.0</td>\n",
       "      <td>0.00</td>\n",
       "      <td>0.00</td>\n",
       "      <td>Jan-15</td>\n",
       "      <td>171.62</td>\n",
       "      <td>May-16</td>\n",
       "      <td>0.0</td>\n",
       "    </tr>\n",
       "    <tr>\n",
       "      <th>1</th>\n",
       "      <td>2500</td>\n",
       "      <td>2500</td>\n",
       "      <td>2500.0</td>\n",
       "      <td>1</td>\n",
       "      <td>15.27</td>\n",
       "      <td>59.83</td>\n",
       "      <td>2</td>\n",
       "      <td>13</td>\n",
       "      <td>1.0</td>\n",
       "      <td>3</td>\n",
       "      <td>...</td>\n",
       "      <td>1008.710000</td>\n",
       "      <td>456.46</td>\n",
       "      <td>435.17</td>\n",
       "      <td>0.0</td>\n",
       "      <td>117.08</td>\n",
       "      <td>1.11</td>\n",
       "      <td>Apr-13</td>\n",
       "      <td>119.66</td>\n",
       "      <td>Sep-13</td>\n",
       "      <td>0.0</td>\n",
       "    </tr>\n",
       "  </tbody>\n",
       "</table>\n",
       "<p>2 rows × 39 columns</p>\n",
       "</div>"
      ],
      "text/plain": [
       "   loan_amnt  funded_amnt  funded_amnt_inv  term  int_rate  installment  \\\n",
       "0       5000         5000           4975.0     0     10.65       162.87   \n",
       "1       2500         2500           2500.0     1     15.27        59.83   \n",
       "\n",
       "   grade  sub_grade  emp_length  home_ownership  ...  total_pymnt  \\\n",
       "0      1          6        10.0               3  ...  5863.155187   \n",
       "1      2         13         1.0               3  ...  1008.710000   \n",
       "\n",
       "   total_rec_prncp total_rec_int  total_rec_late_fee recoveries  \\\n",
       "0          5000.00        863.16                 0.0       0.00   \n",
       "1           456.46        435.17                 0.0     117.08   \n",
       "\n",
       "  collection_recovery_fee last_pymnt_d  last_pymnt_amnt  last_credit_pull_d  \\\n",
       "0                    0.00       Jan-15           171.62              May-16   \n",
       "1                    1.11       Apr-13           119.66              Sep-13   \n",
       "\n",
       "  pub_rec_bankruptcies  \n",
       "0                  0.0  \n",
       "1                  0.0  \n",
       "\n",
       "[2 rows x 39 columns]"
      ]
     },
     "execution_count": 62,
     "metadata": {},
     "output_type": "execute_result"
    }
   ],
   "source": [
    "\n",
    "# Column 'revol_util' has value followed by '%', so removing '%' and converting column data to type 'float'\n",
    "new_data['revol_util'] = new_data['revol_util'].str.replace('[%]', '')\n",
    "new_data[\"revol_util\"] = pd.to_numeric(new_data[\"revol_util\"])\n",
    "new_data.rename(columns = {'revol_util':'%revol_util'}, inplace = True)\n",
    "\n",
    "\n",
    "new_data.head(2)"
   ]
  },
  {
   "cell_type": "code",
   "execution_count": 63,
   "id": "be9bb4ef",
   "metadata": {},
   "outputs": [
    {
     "name": "stdout",
     "output_type": "stream",
     "text": [
      "(39717, 39) (38448, 39)\n"
     ]
    }
   ],
   "source": [
    "# save cleaned data and relableled data as .CSV \n",
    "data_filtered.to_csv(r'D:\\Parul\\MyUpGrad\\Course2_Statistical_Evaluation\\group_project\\Lending_Club_Project\\data_Clean.csv', index=False)\n",
    "new_data.to_csv(r'D:\\Parul\\MyUpGrad\\Course2_Statistical_Evaluation\\group_project\\Lending_Club_Project\\data_relabelled.csv', index=False)\n",
    "print(data.shape, new_data.shape) # just to confirm both data sizes are same"
   ]
  },
  {
   "cell_type": "code",
   "execution_count": 64,
   "id": "2fe307b0",
   "metadata": {},
   "outputs": [
    {
     "name": "stdout",
     "output_type": "stream",
     "text": [
      "<class 'pandas.core.frame.DataFrame'>\n",
      "RangeIndex: 39717 entries, 0 to 39716\n",
      "Data columns (total 39 columns):\n",
      " #   Column                   Non-Null Count  Dtype  \n",
      "---  ------                   --------------  -----  \n",
      " 0   loan_amnt                39717 non-null  int64  \n",
      " 1   funded_amnt              39717 non-null  int64  \n",
      " 2   funded_amnt_inv          39717 non-null  float64\n",
      " 3   term                     39717 non-null  object \n",
      " 4   int_rate                 39717 non-null  object \n",
      " 5   installment              39717 non-null  float64\n",
      " 6   grade                    39717 non-null  object \n",
      " 7   sub_grade                39717 non-null  object \n",
      " 8   emp_length               38642 non-null  object \n",
      " 9   home_ownership           39717 non-null  object \n",
      " 10  annual_inc               39717 non-null  float64\n",
      " 11  verification_status      39717 non-null  object \n",
      " 12  issue_d                  39717 non-null  object \n",
      " 13  loan_status              39717 non-null  object \n",
      " 14  purpose                  39717 non-null  object \n",
      " 15  zip_code                 39717 non-null  object \n",
      " 16  addr_state               39717 non-null  object \n",
      " 17  dti                      39717 non-null  float64\n",
      " 18  delinq_2yrs              39717 non-null  int64  \n",
      " 19  earliest_cr_line         39717 non-null  object \n",
      " 20  inq_last_6mths           39717 non-null  int64  \n",
      " 21  mths_since_last_delinq   14035 non-null  float64\n",
      " 22  mths_since_last_record   2786 non-null   float64\n",
      " 23  open_acc                 39717 non-null  int64  \n",
      " 24  pub_rec                  39717 non-null  int64  \n",
      " 25  revol_bal                39717 non-null  int64  \n",
      " 26  revol_util               39667 non-null  object \n",
      " 27  total_acc                39717 non-null  int64  \n",
      " 28  out_prncp                39717 non-null  float64\n",
      " 29  total_pymnt              39717 non-null  float64\n",
      " 30  total_rec_prncp          39717 non-null  float64\n",
      " 31  total_rec_int            39717 non-null  float64\n",
      " 32  total_rec_late_fee       39717 non-null  float64\n",
      " 33  recoveries               39717 non-null  float64\n",
      " 34  collection_recovery_fee  39717 non-null  float64\n",
      " 35  last_pymnt_d             39646 non-null  object \n",
      " 36  last_pymnt_amnt          39717 non-null  float64\n",
      " 37  last_credit_pull_d       39715 non-null  object \n",
      " 38  pub_rec_bankruptcies     39020 non-null  float64\n",
      "dtypes: float64(15), int64(8), object(16)\n",
      "memory usage: 11.8+ MB\n"
     ]
    }
   ],
   "source": [
    "data.info()"
   ]
  },
  {
   "cell_type": "markdown",
   "id": "198116c6",
   "metadata": {},
   "source": [
    "## Let us do Univariate analysis to understand each attribute a little more and get some insights"
   ]
  },
  {
   "cell_type": "code",
   "execution_count": 113,
   "id": "0fe197da",
   "metadata": {},
   "outputs": [
    {
     "name": "stderr",
     "output_type": "stream",
     "text": [
      "C:\\Users\\Dell\\anaconda3\\lib\\site-packages\\seaborn\\_decorators.py:36: FutureWarning: Pass the following variable as a keyword arg: x. From version 0.12, the only valid positional argument will be `data`, and passing other arguments without an explicit keyword will result in an error or misinterpretation.\n",
      "  warnings.warn(\n",
      "C:\\Users\\Dell\\anaconda3\\lib\\site-packages\\seaborn\\_decorators.py:36: FutureWarning: Pass the following variable as a keyword arg: x. From version 0.12, the only valid positional argument will be `data`, and passing other arguments without an explicit keyword will result in an error or misinterpretation.\n",
      "  warnings.warn(\n"
     ]
    },
    {
     "data": {
      "image/png": "[encoded data removed]",
      "text/plain": [
       "<Figure size 1440x360 with 2 Axes>"
      ]
     },
     "metadata": {
      "needs_background": "light"
     },
     "output_type": "display_data"
    }
   ],
   "source": [
    "f = plt.figure()\n",
    "f.set_figwidth(20)\n",
    "f.set_figheight(5)\n",
    "\n",
    "plt.subplot(1, 2, 1)\n",
    "sb.countplot(data_filtered['loan_status'])\n",
    "plt.ylabel(\"Number of borrowers\", fontsize = 20)\n",
    "plt.xlabel(\"Loan Status\", fontsize = 20)\n",
    "plt.title(\"Number of loans v/s Loan Status\", fontsize = 20)\n",
    "plt.xticks(fontsize = 15, ha='right')\n",
    "# plt.bar(data['loan_status'], 0.4, label = 'loan_status')\n",
    "# plt.legend()\n",
    "\n",
    "\n",
    "\n",
    "plt.subplot(1, 2, 2)\n",
    "sb.countplot(data_filtered['term'])\n",
    "plt.ylabel(\"Number of borrowers\", fontsize = 20)\n",
    "plt.title(\"Number of loans v/s Terms\", fontsize = 20)\n",
    "plt.xlabel(\"Num of payments on the loan\", fontsize = 20)\n",
    "plt.xticks(fontsize = 15, ha='right')\n",
    "\n",
    "\n",
    "\n",
    "plt.subplots_adjust(left=0.1,\n",
    "                    bottom=0.1, \n",
    "                    right=0.9, \n",
    "                    top=0.9, \n",
    "                    wspace=0.7, \n",
    "                    hspace=0.5)\n",
    "\n",
    "plt.show()\n"
   ]
  },
  {
   "cell_type": "markdown",
   "id": "b387ea88",
   "metadata": {},
   "source": [
    "#### Insights on Loan Status count and Count of different terms\n",
    "\n",
    "#### Loan Status: While there is no major insights here, it is good to know that number of fully paid loans is significantly higher than num of defaulting loans\n",
    "\n",
    "#### Term: It is clear that most loans have 36 months term, so we must dig deeper and learn more about Loan status of  those who have 36 months terms. "
   ]
  },
  {
   "cell_type": "code",
   "execution_count": 109,
   "id": "c5683995",
   "metadata": {},
   "outputs": [
    {
     "name": "stderr",
     "output_type": "stream",
     "text": [
      "C:\\Users\\Dell\\anaconda3\\lib\\site-packages\\seaborn\\_decorators.py:36: FutureWarning: Pass the following variable as a keyword arg: x. From version 0.12, the only valid positional argument will be `data`, and passing other arguments without an explicit keyword will result in an error or misinterpretation.\n",
      "  warnings.warn(\n"
     ]
    },
    {
     "data": {
      "image/png": "[encoded data removed]",
      "text/plain": [
       "<Figure size 432x288 with 1 Axes>"
      ]
     },
     "metadata": {
      "needs_background": "light"
     },
     "output_type": "display_data"
    }
   ],
   "source": [
    "sb.countplot(sorted(data_filtered['grade']))\n",
    "plt.ylabel(\"Number of borrowers\", fontsize = 20)\n",
    "plt.xlabel(\"Loan Grade\", fontsize = 20)\n",
    "plt.title(\"Number of loans v/s Loan Grade\", fontsize = 20)\n",
    "plt.xticks(fontsize = 15, ha='right')\n",
    "plt.show()\n"
   ]
  },
  {
   "cell_type": "code",
   "execution_count": 107,
   "id": "b0f15451",
   "metadata": {},
   "outputs": [
    {
     "name": "stderr",
     "output_type": "stream",
     "text": [
      "C:\\Users\\Dell\\anaconda3\\lib\\site-packages\\seaborn\\_decorators.py:36: FutureWarning: Pass the following variable as a keyword arg: x. From version 0.12, the only valid positional argument will be `data`, and passing other arguments without an explicit keyword will result in an error or misinterpretation.\n",
      "  warnings.warn(\n"
     ]
    },
    {
     "data": {
      "image/png": "[encoded data removed]",
      "text/plain": [
       "<Figure size 1080x360 with 1 Axes>"
      ]
     },
     "metadata": {
      "needs_background": "light"
     },
     "output_type": "display_data"
    }
   ],
   "source": [
    "f = plt.figure()\n",
    "f.set_figwidth(15)\n",
    "f.set_figheight(5)\n",
    "\n",
    "sb.countplot(sorted(data_filtered['sub_grade']))\n",
    "plt.ylabel(\"Number of borrowers\", fontsize = 20)\n",
    "plt.xlabel(\"Loan Sub-grades\", fontsize = 20)\n",
    "plt.title(\"Number of loans v/s Loan Sub-grades\", fontsize = 20)\n",
    "plt.xticks(rotation=90, fontsize = 10, ha='right')\n",
    "plt.show()\n"
   ]
  },
  {
   "cell_type": "markdown",
   "id": "295103fb",
   "metadata": {},
   "source": [
    "#### Insights on Loan Grades and Sub-Grades\n",
    "\n",
    "#### Loan Grade: Almost 1/3rd of total loans are of grade B and 1/4th are of Grade A, 1/5t is of Grade C. So together, Grade A, B, C and D is covering majority loans. We need to analyse them further to ensure these afre all 'low-risk' loans\n",
    "\n",
    "#### Loan Sub-Grade: This is in sync with Grade. We need to dig deeper, especially for sub-grade A4, A5, B3, B4, B5 and ensure these are 'low-risk' loans"
   ]
  },
  {
   "cell_type": "code",
   "execution_count": 106,
   "id": "fec91b34",
   "metadata": {},
   "outputs": [
    {
     "name": "stderr",
     "output_type": "stream",
     "text": [
      "C:\\Users\\Dell\\anaconda3\\lib\\site-packages\\seaborn\\_decorators.py:36: FutureWarning: Pass the following variable as a keyword arg: x. From version 0.12, the only valid positional argument will be `data`, and passing other arguments without an explicit keyword will result in an error or misinterpretation.\n",
      "  warnings.warn(\n"
     ]
    },
    {
     "data": {
      "text/plain": [
       "(array([ 0,  1,  2,  3,  4,  5,  6,  7,  8,  9, 10, 11, 12, 13, 14, 15, 16,\n",
       "        17, 18, 19, 20, 21, 22, 23, 24, 25, 26, 27, 28, 29, 30, 31, 32, 33,\n",
       "        34, 35, 36, 37, 38, 39, 40, 41, 42, 43, 44, 45, 46, 47, 48, 49]),\n",
       " [Text(0, 0, 'AZ'),\n",
       "  Text(1, 0, 'GA'),\n",
       "  Text(2, 0, 'IL'),\n",
       "  Text(3, 0, 'CA'),\n",
       "  Text(4, 0, 'NC'),\n",
       "  Text(5, 0, 'TX'),\n",
       "  Text(6, 0, 'VA'),\n",
       "  Text(7, 0, 'MO'),\n",
       "  Text(8, 0, 'CT'),\n",
       "  Text(9, 0, 'UT'),\n",
       "  Text(10, 0, 'FL'),\n",
       "  Text(11, 0, 'NY'),\n",
       "  Text(12, 0, 'PA'),\n",
       "  Text(13, 0, 'MN'),\n",
       "  Text(14, 0, 'NJ'),\n",
       "  Text(15, 0, 'OR'),\n",
       "  Text(16, 0, 'KY'),\n",
       "  Text(17, 0, 'OH'),\n",
       "  Text(18, 0, 'SC'),\n",
       "  Text(19, 0, 'RI'),\n",
       "  Text(20, 0, 'LA'),\n",
       "  Text(21, 0, 'MA'),\n",
       "  Text(22, 0, 'WA'),\n",
       "  Text(23, 0, 'WI'),\n",
       "  Text(24, 0, 'AL'),\n",
       "  Text(25, 0, 'NV'),\n",
       "  Text(26, 0, 'AK'),\n",
       "  Text(27, 0, 'CO'),\n",
       "  Text(28, 0, 'MD'),\n",
       "  Text(29, 0, 'WV'),\n",
       "  Text(30, 0, 'VT'),\n",
       "  Text(31, 0, 'MI'),\n",
       "  Text(32, 0, 'DC'),\n",
       "  Text(33, 0, 'SD'),\n",
       "  Text(34, 0, 'NH'),\n",
       "  Text(35, 0, 'AR'),\n",
       "  Text(36, 0, 'NM'),\n",
       "  Text(37, 0, 'KS'),\n",
       "  Text(38, 0, 'HI'),\n",
       "  Text(39, 0, 'OK'),\n",
       "  Text(40, 0, 'MT'),\n",
       "  Text(41, 0, 'WY'),\n",
       "  Text(42, 0, 'DE'),\n",
       "  Text(43, 0, 'MS'),\n",
       "  Text(44, 0, 'TN'),\n",
       "  Text(45, 0, 'IA'),\n",
       "  Text(46, 0, 'NE'),\n",
       "  Text(47, 0, 'ID'),\n",
       "  Text(48, 0, 'IN'),\n",
       "  Text(49, 0, 'ME')])"
      ]
     },
     "execution_count": 106,
     "metadata": {},
     "output_type": "execute_result"
    },
    {
     "data": {
      "image/png": "[encoded data removed]",
      "text/plain": [
       "<Figure size 2160x720 with 1 Axes>"
      ]
     },
     "metadata": {
      "needs_background": "light"
     },
     "output_type": "display_data"
    }
   ],
   "source": [
    "f = plt.figure()\n",
    "f.set_figwidth(30)\n",
    "f.set_figheight(10)\n",
    "\n",
    "plt.xticks(rotation=90, ha='right')\n",
    "sb.countplot(new_data['addr_state'])\n",
    "plt.ylabel(\"Number of borrowers\", fontsize = 20)\n",
    "plt.xlabel(\"Location - State\", fontsize = 20)\n",
    "plt.title(\"Number of loans v/s Location\", fontsize = 20)\n",
    "plt.xticks(rotation=90, fontsize = 10, ha='right')\n"
   ]
  },
  {
   "cell_type": "code",
   "execution_count": 105,
   "id": "bcd0771d",
   "metadata": {},
   "outputs": [
    {
     "name": "stderr",
     "output_type": "stream",
     "text": [
      "C:\\Users\\Dell\\anaconda3\\lib\\site-packages\\seaborn\\_decorators.py:36: FutureWarning: Pass the following variable as a keyword arg: x. From version 0.12, the only valid positional argument will be `data`, and passing other arguments without an explicit keyword will result in an error or misinterpretation.\n",
      "  warnings.warn(\n"
     ]
    },
    {
     "data": {
      "image/png": "[encoded data removed]",
      "text/plain": [
       "<Figure size 2160x720 with 1 Axes>"
      ]
     },
     "metadata": {
      "needs_background": "light"
     },
     "output_type": "display_data"
    }
   ],
   "source": [
    "f = plt.figure()\n",
    "f.set_figwidth(30)\n",
    "f.set_figheight(10)\n",
    "\n",
    "sb.countplot(sorted(new_data['zip_code']))\n",
    "plt.ylabel(\"Number of borrowers\", fontsize = 20)\n",
    "plt.xlabel(\"Location - Zip Code\", fontsize = 20)\n",
    "plt.title(\"Number of loans v/s Zip Code\", fontsize = 20)\n",
    "plt.xticks(rotation=90, fontsize = 5, ha='right')\n",
    "\n",
    "plt.show()"
   ]
  },
  {
   "cell_type": "markdown",
   "id": "33115337",
   "metadata": {},
   "source": [
    "#### Insigts on Location\n",
    "\n",
    "#### State: Some of the states significantly larger number of loans compared to others and hence need to study them further. e.g CA, NY, FL, TX\n",
    "\n",
    "#### Zip Code: Zip also show some tall spikes, those zip codes need furter analysis. (Note: It is difficult to read zip code on this graph, but we can find out those spikes by further inspection"
   ]
  },
  {
   "cell_type": "code",
   "execution_count": 104,
   "id": "8a8330c3",
   "metadata": {},
   "outputs": [
    {
     "name": "stderr",
     "output_type": "stream",
     "text": [
      "C:\\Users\\Dell\\anaconda3\\lib\\site-packages\\seaborn\\_decorators.py:36: FutureWarning: Pass the following variable as a keyword arg: x. From version 0.12, the only valid positional argument will be `data`, and passing other arguments without an explicit keyword will result in an error or misinterpretation.\n",
      "  warnings.warn(\n"
     ]
    },
    {
     "data": {
      "image/png": "[encoded data removed]",
      "text/plain": [
       "<Figure size 2160x720 with 1 Axes>"
      ]
     },
     "metadata": {
      "needs_background": "light"
     },
     "output_type": "display_data"
    }
   ],
   "source": [
    "f = plt.figure()\n",
    "f.set_figwidth(30)\n",
    "f.set_figheight(10)\n",
    "\n",
    "sb.countplot(new_data['purpose'])\n",
    "plt.ylabel(\"Number of borrowers\", fontsize = 20)\n",
    "plt.xlabel(\"Purpose of Loan\", fontsize = 20)\n",
    "plt.title(\"Number of loans v/s Purpose\", fontsize = 20)\n",
    "plt.xticks(rotation=45, fontsize = 20, ha='right')\n",
    "plt.show()"
   ]
  },
  {
   "cell_type": "markdown",
   "id": "f409a4a1",
   "metadata": {},
   "source": [
    "#### Insigts on Purpose of taking Loan\n",
    "\n",
    "####  A huge number of loan is taken for debt consolidation and credit card payments. Both these catogory fall into not-secured loans and hence it is veryy important to know that these loans are 'low-risk'. Tis needs further analysis\n",
    "\n",
    "#### \"othher' also shows good number of loans, as there is no more information about thses loans, may be we can chheck their grades and sub-grades to understand them better\n"
   ]
  },
  {
   "cell_type": "code",
   "execution_count": 103,
   "id": "ccfa5d4d",
   "metadata": {},
   "outputs": [
    {
     "name": "stderr",
     "output_type": "stream",
     "text": [
      "C:\\Users\\Dell\\anaconda3\\lib\\site-packages\\seaborn\\_decorators.py:36: FutureWarning: Pass the following variable as a keyword arg: x. From version 0.12, the only valid positional argument will be `data`, and passing other arguments without an explicit keyword will result in an error or misinterpretation.\n",
      "  warnings.warn(\n"
     ]
    },
    {
     "data": {
      "text/plain": [
       "(array([0, 1, 2, 3, 4]),\n",
       " [Text(0, 0, 'RENT'),\n",
       "  Text(1, 0, 'OWN'),\n",
       "  Text(2, 0, 'MORTGAGE'),\n",
       "  Text(3, 0, 'OTHER'),\n",
       "  Text(4, 0, 'NONE')])"
      ]
     },
     "execution_count": 103,
     "metadata": {},
     "output_type": "execute_result"
    },
    {
     "data": {
      "image/png": "[encoded data removed]",
      "text/plain": [
       "<Figure size 1440x720 with 1 Axes>"
      ]
     },
     "metadata": {
      "needs_background": "light"
     },
     "output_type": "display_data"
    }
   ],
   "source": [
    "f = plt.figure()\n",
    "f.set_figwidth(20)\n",
    "f.set_figheight(10)\n",
    "\n",
    "sb.countplot(data_filtered['home_ownership'])\n",
    "plt.ylabel(\"Number of borrowers\", fontsize = 20)\n",
    "plt.xlabel(\"Status of Home Ownership\", fontsize = 20)\n",
    "plt.title(\"Number of loans v/s Home Ownership\", fontsize = 20)\n",
    "plt.xticks(rotation=45, fontsize = 20, ha='right')\n"
   ]
  },
  {
   "cell_type": "markdown",
   "id": "ee4da803",
   "metadata": {},
   "source": [
    "#### Insigts on Home ownership status\n",
    "\n",
    "#### This too indicates that most loans are not-secured as a uge majority given to borrowers who either do not own a ome or have already mortgaged it. NOT a good scenario and definitely need further investigations.\n"
   ]
  },
  {
   "cell_type": "markdown",
   "id": "0a9ed11c",
   "metadata": {},
   "source": [
    "## Time for some Bivariate analysis to dig deepper and understand their correlation with risk "
   ]
  },
  {
   "cell_type": "code",
   "execution_count": 102,
   "id": "a70fc261",
   "metadata": {},
   "outputs": [
    {
     "name": "stderr",
     "output_type": "stream",
     "text": [
      "C:\\Users\\Dell\\anaconda3\\lib\\site-packages\\seaborn\\_decorators.py:36: FutureWarning: Pass the following variable as a keyword arg: x. From version 0.12, the only valid positional argument will be `data`, and passing other arguments without an explicit keyword will result in an error or misinterpretation.\n",
      "  warnings.warn(\n",
      "C:\\Users\\Dell\\anaconda3\\lib\\site-packages\\seaborn\\_decorators.py:36: FutureWarning: Pass the following variable as a keyword arg: x. From version 0.12, the only valid positional argument will be `data`, and passing other arguments without an explicit keyword will result in an error or misinterpretation.\n",
      "  warnings.warn(\n"
     ]
    },
    {
     "data": {
      "image/png": "[encoded data removed]",
      "text/plain": [
       "<Figure size 1440x720 with 2 Axes>"
      ]
     },
     "metadata": {
      "needs_background": "light"
     },
     "output_type": "display_data"
    }
   ],
   "source": [
    "# Analysis of 'term' v/s Risk\n",
    "f = plt.figure()\n",
    "f.set_figwidth(20)\n",
    "f.set_figheight(10)\n",
    "\n",
    "data_term = data_filtered[data_filtered['loan_status'] == 'Fully Paid']\n",
    "plt.subplot(1, 2, 1)\n",
    "sb.countplot(sorted(data_term['term']))\n",
    "plt.xticks(rotation=45, fontsize = 15, ha='right')\n",
    "plt.yticks(np.arange(0, 28000, 2000))\n",
    "plt.ylabel('Count of Fully Paid', fontsize = 15)\n",
    "plt.xlabel(\"Number of Payment Terms\", fontsize = 15)\n",
    "plt.title(\"Relating Terms with Fully Paid Loans\", fontsize = 15)\n",
    "\n",
    "\n",
    "\n",
    "\n",
    "data_term = data_filtered[data_filtered['loan_status'] == 'Charged Off']\n",
    "plt.subplot(1, 2, 2)\n",
    "sb.countplot(sorted(data_term['term']))\n",
    "plt.xticks(rotation=45, fontsize = 15, ha='right')\n",
    "plt.yticks(np.arange(0, 3300, 200))\n",
    "plt.ylabel('Count of Defaulters', fontsize = 15)\n",
    "plt.xlabel(\"Number of Payment Terms\", fontsize = 15)\n",
    "plt.title(\"Relating Terms with Defaulted Loans\", fontsize = 15)\n",
    "\n",
    "\n",
    "plt.subplots_adjust(left=0.1,\n",
    "                    bottom=0.1, \n",
    "                    right=0.9, \n",
    "                    top=0.9, \n",
    "                    wspace=0.9999, \n",
    "                    hspace=0.5)\n",
    "\n",
    "plt.show()"
   ]
  },
  {
   "cell_type": "code",
   "execution_count": 217,
   "id": "099478b1",
   "metadata": {},
   "outputs": [
    {
     "data": {
      "image/png": "[encoded data removed]",
      "text/plain": [
       "<Figure size 432x288 with 4 Axes>"
      ]
     },
     "metadata": {
      "needs_background": "light"
     },
     "output_type": "display_data"
    }
   ],
   "source": [
    "# Creating plot\n",
    "data_filtered.boxplot(by ='loan_status', column =['loan_amnt', 'funded_amnt', 'funded_amnt_inv'], grid = False)\n",
    " \n",
    "# show plot\n",
    "plt.show()\n",
    "\n",
    "# Three plots of loan_amt, funded_amnt and funded_amnt_inv, shows that the distribution for \n",
    "# fully paid, charged off and current loans are quite similar to each other.\n",
    "# Going ahead we can drop two out of them. As funded_amnt_inv has more outliers, we have decided to drop that. \n",
    "# loan_amnt is what was requested by bborrower, whereas funded_amnt is the amount tat was approved after\n",
    "# some scritiny. SO we feel funded_amnt is logicallyy more rfelevant as far as learning is concerned. \n"
   ]
  },
  {
   "cell_type": "code",
   "execution_count": 220,
   "id": "dbe7e5b5",
   "metadata": {},
   "outputs": [
    {
     "data": {
      "image/png": "[encoded data removed]",
      "text/plain": [
       "<Figure size 432x288 with 1 Axes>"
      ]
     },
     "metadata": {
      "needs_background": "light"
     },
     "output_type": "display_data"
    }
   ],
   "source": [
    "new_data.boxplot(by ='loan_status', column = ['int_rate'], grid = False)\n",
    " \n",
    "# show plot\n",
    "plt.show()\n",
    "\n",
    "# int_rate box plot indicates that the charged off loans (loan_status = 0) had relatively higher interest rates \n",
    "# than the loans that were fully paid off (loan_status = 1)\n",
    "\n"
   ]
  },
  {
   "cell_type": "code",
   "execution_count": 223,
   "id": "0fbb04c5",
   "metadata": {},
   "outputs": [
    {
     "data": {
      "image/png": "[encoded data removed]",
      "text/plain": [
       "<Figure size 432x288 with 1 Axes>"
      ]
     },
     "metadata": {
      "needs_background": "light"
     },
     "output_type": "display_data"
    }
   ],
   "source": [
    "new_data.boxplot(by ='loan_status', column = ['term'], grid = False)\n",
    " \n",
    "# show plot\n",
    "plt.show()\n",
    "\n",
    "# Conclusion: Loans with 36 monts term is more likely to be fully paid\n"
   ]
  },
  {
   "cell_type": "code",
   "execution_count": 224,
   "id": "38e38a62",
   "metadata": {},
   "outputs": [
    {
     "data": {
      "image/png": "[encoded data removed]",
      "text/plain": [
       "<Figure size 432x288 with 1 Axes>"
      ]
     },
     "metadata": {
      "needs_background": "light"
     },
     "output_type": "display_data"
    }
   ],
   "source": [
    "data_filtered.boxplot(by ='loan_status', column = ['installment'], grid = False)\n",
    " \n",
    "# show plot\n",
    "plt.show()\n",
    "\n",
    "# Conclusion: The 50% to 75% distribution of charged-off loan is sligtly larger than fully-paid loans. \n",
    "# It shows that if monthly installement is larger, then chances of default is a little higher compared to smaller installments\n",
    "\n"
   ]
  },
  {
   "cell_type": "code",
   "execution_count": 226,
   "id": "f8170373",
   "metadata": {},
   "outputs": [
    {
     "data": {
      "image/png": "[encoded data removed]",
      "text/plain": [
       "<Figure size 432x288 with 1 Axes>"
      ]
     },
     "metadata": {
      "needs_background": "light"
     },
     "output_type": "display_data"
    }
   ],
   "source": [
    "new_data.boxplot(by ='loan_status', column = ['grade'], grid = False)\n",
    " \n",
    "# show plot\n",
    "plt.show()\n",
    "\n",
    "# Conclusion: WE can clearly see that Grade A (rank 0) is very highly likely to fully pay (loan_status = 1) compared to Grade C, D, E, F or G. \n",
    "# Grade G is higly likely to default (loan_status = 0) "
   ]
  },
  {
   "cell_type": "code",
   "execution_count": 227,
   "id": "a7045b18",
   "metadata": {},
   "outputs": [
    {
     "data": {
      "image/png": "[encoded data removed]",
      "text/plain": [
       "<Figure size 432x288 with 1 Axes>"
      ]
     },
     "metadata": {
      "needs_background": "light"
     },
     "output_type": "display_data"
    }
   ],
   "source": [
    "new_data.boxplot(by ='loan_status', column = ['sub_grade'], grid = False)\n",
    " \n",
    "# show plot\n",
    "plt.show()\n",
    "\n",
    "# Conclusion: 75% of fullyy paid loans are below sub_grade C3 (Rank 13). 25% to 75% of defaulters are between sub_grade B4 to D4 (rank 8 to 18).\n",
    "# and so tese sub_grades are more likely to default \n",
    "# Grade F3 (rank 27) and above are higly likely to default"
   ]
  },
  {
   "cell_type": "code",
   "execution_count": 228,
   "id": "75e0965d",
   "metadata": {},
   "outputs": [
    {
     "data": {
      "image/png": "[encoded data removed]",
      "text/plain": [
       "<Figure size 432x288 with 1 Axes>"
      ]
     },
     "metadata": {
      "needs_background": "light"
     },
     "output_type": "display_data"
    }
   ],
   "source": [
    "new_data.boxplot(by ='loan_status', column = ['emp_length'], grid = False)\n",
    " \n",
    "# show plot\n",
    "plt.show()\n",
    "\n",
    "# Conclusion: \n"
   ]
  },
  {
   "cell_type": "code",
   "execution_count": 229,
   "id": "a66405aa",
   "metadata": {},
   "outputs": [
    {
     "data": {
      "image/png": "[encoded data removed]",
      "text/plain": [
       "<Figure size 432x288 with 1 Axes>"
      ]
     },
     "metadata": {
      "needs_background": "light"
     },
     "output_type": "display_data"
    }
   ],
   "source": [
    "new_data.boxplot(by ='loan_status', column = ['dti'], grid = False)\n",
    " \n",
    "# show plot\n",
    "plt.show()\n",
    "\n",
    "# Conclusion: \n"
   ]
  },
  {
   "cell_type": "code",
   "execution_count": 249,
   "id": "0712fdb9",
   "metadata": {},
   "outputs": [
    {
     "name": "stderr",
     "output_type": "stream",
     "text": [
      "C:\\Users\\Dell\\anaconda3\\lib\\site-packages\\seaborn\\_decorators.py:36: FutureWarning: Pass the following variable as a keyword arg: x. From version 0.12, the only valid positional argument will be `data`, and passing other arguments without an explicit keyword will result in an error or misinterpretation.\n",
      "  warnings.warn(\n",
      "C:\\Users\\Dell\\anaconda3\\lib\\site-packages\\seaborn\\_decorators.py:36: FutureWarning: Pass the following variable as a keyword arg: x. From version 0.12, the only valid positional argument will be `data`, and passing other arguments without an explicit keyword will result in an error or misinterpretation.\n",
      "  warnings.warn(\n"
     ]
    },
    {
     "data": {
      "image/png": "[encoded data removed]",
      "text/plain": [
       "<Figure size 432x288 with 2 Axes>"
      ]
     },
     "metadata": {
      "needs_background": "light"
     },
     "output_type": "display_data"
    }
   ],
   "source": [
    "# Analysis of 'Verification Status' v/s Risk\n",
    "\n",
    "data_verification = data_filtered[data_filtered['loan_status'] == 'Fully Paid']\n",
    "plt.subplot(1, 2, 1)\n",
    "plt.title('Verification Status of Fully-Paid Loans')\n",
    "plt.xticks(rotation=45, ha='right')\n",
    "sb.countplot(sorted(data_verification['verification_status']))\n",
    "plt.yticks(np.arange(0, 15000, 1000))\n",
    "plt.ylabel('Count of Fully Paid')\n",
    "\n",
    "\n",
    "\n",
    "data_verification = data_filtered[data_filtered['loan_status'] == 'Charged Off']\n",
    "plt.subplot(1, 2, 2)\n",
    "plt.title('Verification Status of Defaulters')\n",
    "plt.xticks(rotation=45, ha='right')\n",
    "sb.countplot(sorted(data_verification['verification_status']))\n",
    "plt.yticks(np.arange(0, 2250, 250))\n",
    "plt.ylabel('Count of Defaulters')\n",
    "\n",
    "\n",
    "plt.subplots_adjust(left=0.1,\n",
    "                    bottom=0.1, \n",
    "                    right=0.9, \n",
    "                    top=0.9, \n",
    "                    wspace=0.9999, \n",
    "                    hspace=0.5)\n",
    "\n",
    "plt.show()\n",
    "\n",
    "# Conclusion: The first plot indicates clearly that number of 'Not Verified' borrowers wo have fully paid \n",
    "# is siggnificantly higher tan 'Source Verified' or 'Verified' catagory.\n",
    "# SEcond grap sows that number of 'Non-verified' defaulters is very close to 'Verified' defaulters with slight higher number\n",
    "# This is a very serious concern. It looks like the verification process it self is faulty and needs to be studied and revised"
   ]
  },
  {
   "cell_type": "code",
   "execution_count": 266,
   "id": "1a178f74",
   "metadata": {},
   "outputs": [
    {
     "name": "stderr",
     "output_type": "stream",
     "text": [
      "C:\\Users\\Dell\\anaconda3\\lib\\site-packages\\seaborn\\_decorators.py:36: FutureWarning: Pass the following variable as a keyword arg: x. From version 0.12, the only valid positional argument will be `data`, and passing other arguments without an explicit keyword will result in an error or misinterpretation.\n",
      "  warnings.warn(\n",
      "C:\\Users\\Dell\\anaconda3\\lib\\site-packages\\seaborn\\_decorators.py:36: FutureWarning: Pass the following variable as a keyword arg: x. From version 0.12, the only valid positional argument will be `data`, and passing other arguments without an explicit keyword will result in an error or misinterpretation.\n",
      "  warnings.warn(\n"
     ]
    },
    {
     "data": {
      "image/png": "[encoded data removed]",
      "text/plain": [
       "<Figure size 432x288 with 2 Axes>"
      ]
     },
     "metadata": {
      "needs_background": "light"
     },
     "output_type": "display_data"
    }
   ],
   "source": []
  },
  {
   "cell_type": "code",
   "execution_count": 260,
   "id": "20b34f37",
   "metadata": {},
   "outputs": [
    {
     "name": "stderr",
     "output_type": "stream",
     "text": [
      "C:\\Users\\Dell\\anaconda3\\lib\\site-packages\\seaborn\\_decorators.py:36: FutureWarning: Pass the following variable as a keyword arg: x. From version 0.12, the only valid positional argument will be `data`, and passing other arguments without an explicit keyword will result in an error or misinterpretation.\n",
      "  warnings.warn(\n",
      "C:\\Users\\Dell\\anaconda3\\lib\\site-packages\\seaborn\\_decorators.py:36: FutureWarning: Pass the following variable as a keyword arg: x. From version 0.12, the only valid positional argument will be `data`, and passing other arguments without an explicit keyword will result in an error or misinterpretation.\n",
      "  warnings.warn(\n"
     ]
    },
    {
     "data": {
      "image/png": "[encoded data removed]",
      "text/plain": [
       "<Figure size 432x288 with 2 Axes>"
      ]
     },
     "metadata": {
      "needs_background": "light"
     },
     "output_type": "display_data"
    }
   ],
   "source": [
    "# Risk analysis of 'Purpose' of loan\n",
    "data_purpose = data_filtered[data_filtered['loan_status'] == 'Fully Paid']\n",
    "plt.subplot(1, 2, 1)\n",
    "plt.title('Purpose of Fully-Paid Loans')\n",
    "plt.xticks(rotation=90, ha='right')\n",
    "sb.countplot(sorted(data_purpose['purpose']))\n",
    "plt.yticks(np.arange(0, 16000, 1000))\n",
    "plt.ylabel('Count of Fully Paid')\n",
    "\n",
    "data_purpose = data_filtered[data_filtered['loan_status'] == 'Charged Off']\n",
    "plt.subplot(1, 2, 2)\n",
    "plt.title('Purpose of Defaulters')\n",
    "plt.xticks(rotation=90, ha='right')\n",
    "sb.countplot(sorted(data_purpose['purpose']))\n",
    "plt.yticks(np.arange(0, 3000, 200))\n",
    "plt.ylabel('Count of Defaulters')\n",
    "\n",
    "plt.subplots_adjust(left=0.1,\n",
    "                    bottom=0.1, \n",
    "                    right=0.9, \n",
    "                    top=0.9, \n",
    "                    wspace=0.9999, \n",
    "                    hspace=0.5)\n",
    "\n",
    "plt.show()\n",
    "\n"
   ]
  },
  {
   "cell_type": "code",
   "execution_count": 32,
   "id": "d837075c",
   "metadata": {},
   "outputs": [
    {
     "data": {
      "image/png": "[encoded data removed]",
      "text/plain": [
       "<Figure size 432x288 with 1 Axes>"
      ]
     },
     "metadata": {
      "needs_background": "light"
     },
     "output_type": "display_data"
    }
   ],
   "source": [
    "'''\n",
    "interest_rate = list(data[ ['int_rate']])\n",
    "plt.plot(*zip(*sorted(interest_rate)))\n",
    "# show plot\n",
    "plt.show()\n",
    "'''\n"
   ]
  },
  {
   "cell_type": "markdown",
   "id": "7f0a1f66",
   "metadata": {},
   "source": [
    "### Check num of null (missing data) in each column & drop columns with number of null vales >= nrow/2"
   ]
  },
  {
   "cell_type": "code",
   "execution_count": 45,
   "id": "b6e95a35",
   "metadata": {},
   "outputs": [
    {
     "name": "stdout",
     "output_type": "stream",
     "text": [
      "Missing data Percentage\n",
      " id                             0.0000\n",
      "member_id                      0.0000\n",
      "loan_amnt                      0.0000\n",
      "funded_amnt                    0.0000\n",
      "funded_amnt_inv                0.0000\n",
      "term                           0.0000\n",
      "int_rate                       0.0000\n",
      "installment                    0.0000\n",
      "grade                          0.0000\n",
      "sub_grade                      0.0000\n",
      "emp_title                      6.1913\n",
      "emp_length                     2.7066\n",
      "home_ownership                 0.0000\n",
      "annual_inc                     0.0000\n",
      "verification_status            0.0000\n",
      "issue_d                        0.0000\n",
      "loan_status                    0.0000\n",
      "pymnt_plan                     0.0000\n",
      "url                            0.0000\n",
      "desc                          32.5805\n",
      "purpose                        0.0000\n",
      "title                          0.0277\n",
      "zip_code                       0.0000\n",
      "addr_state                     0.0000\n",
      "dti                            0.0000\n",
      "delinq_2yrs                    0.0000\n",
      "earliest_cr_line               0.0000\n",
      "inq_last_6mths                 0.0000\n",
      "mths_since_last_delinq        64.6625\n",
      "mths_since_last_record        92.9854\n",
      "open_acc                       0.0000\n",
      "pub_rec                        0.0000\n",
      "revol_bal                      0.0000\n",
      "revol_util                     0.1259\n",
      "total_acc                      0.0000\n",
      "initial_list_status            0.0000\n",
      "out_prncp                      0.0000\n",
      "out_prncp_inv                  0.0000\n",
      "total_pymnt                    0.0000\n",
      "total_pymnt_inv                0.0000\n",
      "total_rec_prncp                0.0000\n",
      "total_rec_int                  0.0000\n",
      "total_rec_late_fee             0.0000\n",
      "recoveries                     0.0000\n",
      "collection_recovery_fee        0.0000\n",
      "last_pymnt_d                   0.1788\n",
      "last_pymnt_amnt                0.0000\n",
      "next_pymnt_d                  97.1297\n",
      "last_credit_pull_d             0.0050\n",
      "collections_12_mths_ex_med     0.1410\n",
      "policy_code                    0.0000\n",
      "application_type               0.0000\n",
      "acc_now_delinq                 0.0000\n",
      "chargeoff_within_12_mths       0.1410\n",
      "delinq_amnt                    0.0000\n",
      "pub_rec_bankruptcies           1.7549\n",
      "tax_liens                      0.0982\n",
      "dtype: float64\n",
      "(39717, 54)\n",
      "39717 54\n",
      "Missing data Percentage after some cleaning\n",
      " id                             0.00\n",
      "member_id                      0.00\n",
      "loan_amnt                      0.00\n",
      "funded_amnt                    0.00\n",
      "funded_amnt_inv                0.00\n",
      "term                           0.00\n",
      "int_rate                       0.00\n",
      "installment                    0.00\n",
      "grade                          0.00\n",
      "sub_grade                      0.00\n",
      "emp_title                      6.19\n",
      "emp_length                     2.71\n",
      "home_ownership                 0.00\n",
      "annual_inc                     0.00\n",
      "verification_status            0.00\n",
      "issue_d                        0.00\n",
      "loan_status                    0.00\n",
      "pymnt_plan                     0.00\n",
      "url                            0.00\n",
      "desc                          32.58\n",
      "purpose                        0.00\n",
      "title                          0.03\n",
      "zip_code                       0.00\n",
      "addr_state                     0.00\n",
      "dti                            0.00\n",
      "delinq_2yrs                    0.00\n",
      "earliest_cr_line               0.00\n",
      "inq_last_6mths                 0.00\n",
      "open_acc                       0.00\n",
      "pub_rec                        0.00\n",
      "revol_bal                      0.00\n",
      "revol_util                     0.13\n",
      "total_acc                      0.00\n",
      "initial_list_status            0.00\n",
      "out_prncp                      0.00\n",
      "out_prncp_inv                  0.00\n",
      "total_pymnt                    0.00\n",
      "total_pymnt_inv                0.00\n",
      "total_rec_prncp                0.00\n",
      "total_rec_int                  0.00\n",
      "total_rec_late_fee             0.00\n",
      "recoveries                     0.00\n",
      "collection_recovery_fee        0.00\n",
      "last_pymnt_d                   0.18\n",
      "last_pymnt_amnt                0.00\n",
      "last_credit_pull_d             0.01\n",
      "collections_12_mths_ex_med     0.14\n",
      "policy_code                    0.00\n",
      "application_type               0.00\n",
      "acc_now_delinq                 0.00\n",
      "chargeoff_within_12_mths       0.14\n",
      "delinq_amnt                    0.00\n",
      "pub_rec_bankruptcies           1.75\n",
      "tax_liens                      0.10\n",
      "dtype: float64\n",
      "(39717, 54)\n",
      "39717 54\n"
     ]
    }
   ],
   "source": [
    "'''\n",
    "percentage_missing_data = (100*data.isnull().sum() / nrow1)\n",
    "print(\"Missing data Percentage\\n\", round(percentage_missing_data,4))\n",
    "data = data.dropna(thresh=nrow1/2, axis=1)\n",
    "size2 = data.shape\n",
    "print(size2)\n",
    "nrow2 = size2[0]\n",
    "ncol2 = size2[1]\n",
    "print(nrow2,ncol2)\n",
    "\n",
    "percentage_missing_data = (100*data.isnull().sum() / nrow1)\n",
    "print(\"Missing data Percentage after some cleaning\\n\",round(percentage_missing_data,2))\n",
    "\n",
    "size2 = data.shape\n",
    "print(size2)\n",
    "nrow2 = size2[0]\n",
    "ncol2 = size2[1]\n",
    "print(nrow2,ncol2)\n",
    "'''\n",
    "\n",
    "\n"
   ]
  },
  {
   "cell_type": "code",
   "execution_count": null,
   "id": "c885a708",
   "metadata": {},
   "outputs": [],
   "source": []
  },
  {
   "cell_type": "markdown",
   "id": "c6fe0243",
   "metadata": {},
   "source": [
    "### Remove blank rows if any\n",
    "#### Dropping the rows having all values as NaN/NaT \n",
    "#### when threshold of nan values = total numer of columns\n",
    "d"
   ]
  },
  {
   "cell_type": "code",
   "execution_count": 11,
   "id": "47b162e6",
   "metadata": {},
   "outputs": [
    {
     "name": "stdout",
     "output_type": "stream",
     "text": [
      "(14, 57)\n"
     ]
    }
   ],
   "source": [
    "'''\n",
    "data = data.dropna(thresh=ncol1)\n",
    "size2 = data.shape\n",
    "print(size2)\n",
    "nrow2 = size2[0]\n",
    "ncol2 = size2[1]\n",
    "'''\n",
    "\n"
   ]
  },
  {
   "cell_type": "code",
   "execution_count": null,
   "id": "ad7d7bb6",
   "metadata": {},
   "outputs": [],
   "source": []
  }
 ],
 "metadata": {
  "kernelspec": {
   "display_name": "Python 3 (ipykernel)",
   "language": "python",
   "name": "python3"
  },
  "language_info": {
   "codemirror_mode": {
    "name": "ipython",
    "version": 3
   },
   "file_extension": ".py",
   "mimetype": "text/x-python",
   "name": "python",
   "nbconvert_exporter": "python",
   "pygments_lexer": "ipython3",
   "version": "3.9.12"
  }
 },
 "nbformat": 4,
 "nbformat_minor": 5
}
