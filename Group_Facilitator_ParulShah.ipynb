{
 "cells": [
  {
   "cell_type": "markdown",
   "id": "fcfe1471",
   "metadata": {},
   "source": [
    "# Lending Club Case Study"
   ]
  },
  {
   "cell_type": "markdown",
   "id": "f0b54769",
   "metadata": {},
   "source": [
    "## Read CSV File"
   ]
  },
  {
   "cell_type": "code",
   "execution_count": 3,
   "id": "229e4d20",
   "metadata": {},
   "outputs": [
    {
     "name": "stdout",
     "output_type": "stream",
     "text": [
      "(39717, 111) 39717 111\n"
     ]
    }
   ],
   "source": [
    "import pandas as pd\n",
    "import numpy as np\n",
    "import matplotlib.pyplot as plt\n",
    "\n",
    "data = pd.read_csv('D:\\Parul\\MyUpGrad\\Course2_Statistical_Evaluation\\group_project\\Lending_Club_Project\\loan.csv', dtype={'next_pymnt_d': 'str'})\n",
    "size = data.shape\n",
    "nrow = size[0]\n",
    "ncol = size[1]\n",
    "print(size, nrow, ncol)\n",
    "\n"
   ]
  },
  {
   "cell_type": "markdown",
   "id": "0db4b53e",
   "metadata": {},
   "source": [
    "## Data Cleaning"
   ]
  },
  {
   "cell_type": "code",
   "execution_count": 16,
   "id": "2e08c527",
   "metadata": {},
   "outputs": [
    {
     "name": "stdout",
     "output_type": "stream",
     "text": [
      "id                                0\n",
      "member_id                         0\n",
      "loan_amnt                         0\n",
      "funded_amnt                       0\n",
      "funded_amnt_inv                   0\n",
      "                              ...  \n",
      "tax_liens                        39\n",
      "tot_hi_cred_lim               39717\n",
      "total_bal_ex_mort             39717\n",
      "total_bc_limit                39717\n",
      "total_il_high_credit_limit    39717\n",
      "Length: 111, dtype: int64 39717\n"
     ]
    }
   ],
   "source": [
    "null_count = data.isnull().sum(axis=0)  # count of null in each columns\n",
    "print(null_count, max(null_count))\n"
   ]
  },
  {
   "cell_type": "markdown",
   "id": "004a17b5",
   "metadata": {},
   "source": [
    "### Remove columns that has all values as NULL"
   ]
  },
  {
   "cell_type": "code",
   "execution_count": 17,
   "id": "da657404",
   "metadata": {},
   "outputs": [
    {
     "name": "stdout",
     "output_type": "stream",
     "text": [
      "(39717, 57)\n",
      "39717 57\n"
     ]
    }
   ],
   "source": [
    "col = 0\n",
    "data_clean1 = pd.DataFrame()\n",
    "#print(len(null_count))\n",
    "data = data.dropna(axis = 1, how = 'all')\n",
    "size1 = data.shape\n",
    "print(size1)\n",
    "nrow1 = size1[0]\n",
    "ncol1 = size1[1]\n",
    "print(nrow1,ncol1)\n"
   ]
  },
  {
   "cell_type": "markdown",
   "id": "7f0a1f66",
   "metadata": {},
   "source": [
    "### Check num of null in each column & drop columns with number of null vales >= nrow/2"
   ]
  },
  {
   "cell_type": "code",
   "execution_count": 19,
   "id": "b6e95a35",
   "metadata": {},
   "outputs": [
    {
     "name": "stdout",
     "output_type": "stream",
     "text": [
      "id                                0\n",
      "member_id                         0\n",
      "loan_amnt                         0\n",
      "funded_amnt                       0\n",
      "funded_amnt_inv                   0\n",
      "term                              0\n",
      "int_rate                          0\n",
      "installment                       0\n",
      "grade                             0\n",
      "sub_grade                         0\n",
      "emp_title                      2459\n",
      "emp_length                     1075\n",
      "home_ownership                    0\n",
      "annual_inc                        0\n",
      "verification_status               0\n",
      "issue_d                           0\n",
      "loan_status                       0\n",
      "pymnt_plan                        0\n",
      "url                               0\n",
      "desc                          12940\n",
      "purpose                           0\n",
      "title                            11\n",
      "zip_code                          0\n",
      "addr_state                        0\n",
      "dti                               0\n",
      "delinq_2yrs                       0\n",
      "earliest_cr_line                  0\n",
      "inq_last_6mths                    0\n",
      "mths_since_last_delinq        25682\n",
      "mths_since_last_record        36931\n",
      "open_acc                          0\n",
      "pub_rec                           0\n",
      "revol_bal                         0\n",
      "revol_util                       50\n",
      "total_acc                         0\n",
      "initial_list_status               0\n",
      "out_prncp                         0\n",
      "out_prncp_inv                     0\n",
      "total_pymnt                       0\n",
      "total_pymnt_inv                   0\n",
      "total_rec_prncp                   0\n",
      "total_rec_int                     0\n",
      "total_rec_late_fee                0\n",
      "recoveries                        0\n",
      "collection_recovery_fee           0\n",
      "last_pymnt_d                     71\n",
      "last_pymnt_amnt                   0\n",
      "next_pymnt_d                  38577\n",
      "last_credit_pull_d                2\n",
      "collections_12_mths_ex_med       56\n",
      "policy_code                       0\n",
      "application_type                  0\n",
      "acc_now_delinq                    0\n",
      "chargeoff_within_12_mths         56\n",
      "delinq_amnt                       0\n",
      "pub_rec_bankruptcies            697\n",
      "tax_liens                        39\n",
      "dtype: int64\n",
      "(39717, 54)\n",
      "39717 54\n"
     ]
    }
   ],
   "source": [
    "print(data.isnull().sum())\n",
    "data = data.dropna(thresh=nrow/2, axis=1)\n",
    "size2 = data.shape\n",
    "print(size2)\n",
    "nrow2 = size2[0]\n",
    "ncol2 = size2[1]\n",
    "print(nrow2,ncol2)\n",
    "\n",
    "\n"
   ]
  },
  {
   "cell_type": "markdown",
   "id": "c6fe0243",
   "metadata": {},
   "source": [
    "### Remove blank rows if any\n",
    "#### Dropping the rows having all values as NaN/NaT \n",
    "#### when threshold of nan values = total numer of columns\n",
    "d"
   ]
  },
  {
   "cell_type": "code",
   "execution_count": 11,
   "id": "47b162e6",
   "metadata": {},
   "outputs": [
    {
     "name": "stdout",
     "output_type": "stream",
     "text": [
      "(14, 57)\n"
     ]
    }
   ],
   "source": [
    "'''\n",
    "data = data.dropna(thresh=ncol1)\n",
    "size2 = data.shape\n",
    "print(size2)\n",
    "nrow2 = size2[0]\n",
    "ncol2 = size2[1]\n",
    "'''\n",
    "\n"
   ]
  },
  {
   "cell_type": "code",
   "execution_count": null,
   "id": "ad7d7bb6",
   "metadata": {},
   "outputs": [],
   "source": []
  }
 ],
 "metadata": {
  "kernelspec": {
   "display_name": "Python 3 (ipykernel)",
   "language": "python",
   "name": "python3"
  },
  "language_info": {
   "codemirror_mode": {
    "name": "ipython",
    "version": 3
   },
   "file_extension": ".py",
   "mimetype": "text/x-python",
   "name": "python",
   "nbconvert_exporter": "python",
   "pygments_lexer": "ipython3",
   "version": "3.9.12"
  }
 },
 "nbformat": 4,
 "nbformat_minor": 5
}
